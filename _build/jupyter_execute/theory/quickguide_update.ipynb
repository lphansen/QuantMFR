{
 "cells": [
  {
   "cell_type": "markdown",
   "id": "f5e7b1d0",
   "metadata": {
    "id": "f5e7b1d0"
   },
   "source": [
    "<a href=\"https://colab.research.google.com/github/lphansen/RiskUncertaintyValue/blob/main/expansion_suite.ipynb\" target=\"_parent\"><img src=\"https://colab.research.google.com/assets/colab-badge.svg\" alt=\"Open In Colab\"/></a>"
   ]
  },
  {
   "cell_type": "markdown",
   "id": "7735eea6",
   "metadata": {},
   "source": [
    "# Numerical Solution: Expansion Suite"
   ]
  },
  {
   "cell_type": "markdown",
   "id": "ef624dcb",
   "metadata": {
    "id": "ef624dcb"
   },
   "source": [
    "We previously covered the small-noise expansion method and the recursive utility framework. This section covers the usage of `Expansion Suite`, an open source Python toolbox which uses these methods to solve discrete nonlinear DSGE models.\n",
    "\n",
    "\n",
    "\n",
    "<!-- For this notebook \n",
    "\n",
    "- Section 1 provides a five-minute guide to solving the DSGE model using the expansion suite, as well as how to \n",
    "    - compute shock elasticities and IRF\n",
    "    - approximate and simulate variables based on model solutions. \n",
    "\n",
    "\n",
    "- Section 2 provides examples of `LinQuadVar` computations, including\n",
    "    - constructions, operations, and evaluations\n",
    "    - adjusting time periods\n",
    "    - computing expectations -->\n"
   ]
  },
  {
   "cell_type": "markdown",
   "id": "6f590ad3-c8d4-4fba-93f4-bf14f4f3364b",
   "metadata": {},
   "source": [
    "<!-- **Table of Contents**\n",
    "* [1. Five-minute guide to solving the DSGE model using the Expansion Suite](#s1)\n",
    "    * [1.1 Equilibrium Condition Function](#s1-1)\n",
    "    * [1.2 Model Steady State Function](#s1-2)\n",
    "    * [1.3 Model Variable Dimension Array](#s1-3)\n",
    "    * [1.4 Model Parameter Calibration Tuple](#s1-4)\n",
    "    * [1.5 Log Consumption Growth Function](#s1-5)\n",
    "    * [1.6 Solve the BY model using the Expansion Suite](#s1-6)\n",
    "    * [1.7 Model Solutions](#s1-7)\n",
    "    * [1.8 Approximate Variables](#s1-8)\n",
    "    * [1.9 Model Simulations](#s1-9)\n",
    "    * [1.10 Shock Elasticities and IRF](#s1-10)\n",
    "* [2. Examples to use `LinQuadVar` in Computation](#s2)\n",
    "    * [2.1 Define a `LinQuadVar` ](#s2-1)\n",
    "    * [2.2 `LinQuadVar` Operations](#s2-2)\n",
    "    * [2.3 `LinQuadVar` Split and Concat](#s2-3)\n",
    "    * [2.4 Evaluate a `LinQuadVar`](#s2-4)\n",
    "    * [2.5 Adjust Conditional Information Time](#s2-5)\n",
    "    * [2.6 Compute the Expectation of time $t+1$](#s2-6) -->\n",
    "\n",
    "\n",
    "```{contents}\n",
    ":depth: 1\n",
    "```"
   ]
  },
  {
   "cell_type": "markdown",
   "id": "e247ca61",
   "metadata": {},
   "source": [
    "Consider the framework previously introduced:\n",
    "\n",
    "$$\n",
    "\\begin{align}\n",
    "\\mathbb{E}[{N_{t+1}^*Q_{t+1}^* \\psi_1(X_t, J_t, X_{t+1}, J_{t+1})}|{\\mathfrak{A}_t}] - \\psi_2(X_t, J_t)  &= 0 \\tag{1}\\\\\n",
    "  \\phi\\left(X_t, X_{t+1}, J_t, {\\sf q}W_{t+1}, {\\sf q} \\right) &= 0 \n",
    "\\tag{2} \\end{align}\n",
    "$$\n",
    "\n",
    "The `Expansion Suite` uses the function `uncertain_expansion` to approximate a solution to the above system locally. It takes the following inputs:\n",
    "\n",
    "```{list-table}\n",
    ":header-rows: 1\n",
    "\n",
    "* - Input\n",
    "  - Type\n",
    "  - Description\n",
    "* - `eq`\n",
    "  - *callable*\n",
    "  - Function which takes state and jump variables and outputs error of equilibrium conditions, i.e. RHS of equation (1)\n",
    "* - `ss`\n",
    "  - *callable*\n",
    "  - Function which takes model parameters and outputs steady-state values of state and jump variables\n",
    "* - `var_shape`\n",
    "  - *tuple of int*\n",
    "  - Triple of integers $(n_J,n_X,n_W)$ where $n_J$ is the number of jump variables, $n_X$ is the number of state variables, and $n_W$ is the number of shocks.\n",
    "* - `args`\n",
    "  - *tuple of float or ndarray*\n",
    "  - Array of preference and model parameters\n",
    "* - `gc`\n",
    "  - *callable*\n",
    "  - Function which takes in variables and outputs log-growth of consumption\n",
    "* - `args`\n",
    "  - tuple of float/ndarray\n",
    "  - Preference and model parameters\n",
    "* - `gc`\n",
    "  - *callable*\n",
    "  - Function which takes in variables and outputs log-growth of consumption\n",
    "* - `approach`\n",
    "  - *string*\n",
    "  - If equal to '1', then solve the model using approach 1 (default, see Appendix C); If equal to '2', then use approach 2 (see Appendix D). The function raises an exception if other values are provided\n",
    "* - `init_util`\n",
    "  - *dict, or None*\n",
    "  - Dictionary for initialization of the expansion coefficients $\\mu^0, \\Upsilon_0^2, \\Upsilon_1^2,$ and $\\Upsilon_2^2$. The keys are: `mu_0`, `Upsilon_0`, `Upsilon_1`, `Upsilon_2`. If *None*, zero matrices are used\n",
    "* - `iter_tol`\n",
    "  - *float*\n",
    "  - Iteration stops when the maximum absolute difference between the approximated variables in the current and previous iteration is below `iter_tol`\n",
    "* - `max_iter`\n",
    "  - *int*\n",
    "  - Maximum number of iterations\n",
    "```\n",
    "\n",
    "The output is of class `ModelSolution`, which stores the coefficients for the linear-quadratic approximation for the jump and state variables; continuation values; consumption growth; and log change of measure, as well as the steady-state values of each variables. \n",
    "\n",
    "We will now walk through the computation using a simple example.\n",
    "<br>\n",
    "<br>"
   ]
  },
  {
   "cell_type": "markdown",
   "id": "6f6c2319",
   "metadata": {},
   "source": [
    "# 1 AK Model with Recursive Utility"
   ]
  },
  {
   "cell_type": "markdown",
   "id": "1141ee3e",
   "metadata": {},
   "source": [
    "## 1.1 Model Setup <a class=\"anchor\" id=\"s1-1\"></a>\n",
    "\n",
    "Consider the following recursive utility maximization problem with AK technology:\n",
    "\n",
    "$$\n",
    "\\max_{C_t, I_t} V_t = \\left[ (1 - \\beta) \\left(C_t\\right)^{1-\\rho}  + \\beta  \\left( R_t \\right)^{1-\\rho} \\right]^{\\frac 1 {1-\\rho}}\\tag{3}\n",
    "$$\n",
    "such that\n",
    "\n",
    "$$\n",
    "C_t + I_t = \\alpha K_t\n",
    "$$ \n",
    "\n",
    "$$\n",
    "\\log K_{t+1} - \\log K_t = \\frac 1 \\psi \\log \\left[ 1 + \\psi \\frac {I_t}{K_t} \\right] + \\beta_k Z_t - \\eta_k + \\sigma_k W_{t+1} \n",
    "$$ \n",
    "\n",
    "$$\n",
    "Z_{t+1} = \\exp( - \\beta_z) Z_t + \\sigma_z W_{t+1} \n",
    "$$ \n",
    "\n",
    "where $\\psi$ is adjustment cost parameter which determines the efficiency of converting investment to capital, and $\\eta_k$ is depreciation.\n",
    "$Z_t$ governs the (scalar) conditional mean of (stochastic) technology growth while $\\sigma_k$ governs the stochastic volatility of technology growth. \n",
    "$W_{t+1}$ is a two-dimensional Wiener process which provides the exogenous shocks to this model.\n",
    "\n",
    "For the purposes of computation, we divide the first two equations by $K_t$."
   ]
  },
  {
   "cell_type": "markdown",
   "id": "9ebe9b8f",
   "metadata": {},
   "source": [
    "## 1.2 First-Order Conditions <a class=\"anchor\" id=\"s1-2\"></a> \n",
    "\n",
    "Let ${\\widehat G}_t = {\\widehat K}_t,$ $X_t = Z_t,$ and $D_t = \\frac {I_t }{K_t}.$ We can rewrite the previous equations as: \n",
    "\n",
    "$$\n",
    "{\\widehat C}_t = \\log \\left( \\alpha - D_t  \\right) + {\\widehat G}_t \n",
    "$$ \n",
    "\n",
    "$$\n",
    "{\\widehat G}_{t + 1} - {\\widehat G}_t =  \\frac 1 \\psi \\log \\left[ 1 + \\psi D_t \\right] + \\beta_k X_t - \\eta_k + \\sigma_k W_{t+1}\n",
    "$$ \n",
    "\n",
    "Apply the general form of FOC and costate equations and notice in this special case $\\psi^x_d = 0$, we have \n",
    "\n",
    "The FOC is  \n",
    "\n",
    "$$\n",
    "    \\mathbb{E} \\left[N^*_{t + 1}Q^*_{t + 1} \\beta  \\left(\\frac{C_{t + 1}}{G_{t + 1}}\\right)^{-\\rho} \\left(\\frac{G_{t + 1}}{G_{t}}\\right)^{1-\\rho} \\left(\\frac{C_{t}}{G_{t}}\\right)^{\\rho} \\frac{1}{1 + \\psi D_t} \\widetilde{MG}_{t+1} \\right] - 1 = 0\n",
    "$$ \n",
    "\n",
    "The law of motion of costate $\\widetilde{MG}$ is \n",
    "\n",
    "$$\n",
    "    \\mathbb{E} \\left[N^*_{t + 1}Q^*_{t + 1} \\beta \\left(\\frac{C_{t + 1}}{G_{t + 1}}\\right)^{-\\rho} \\left(\\frac{G_{t + 1}}{G_{t}}\\right)^{1-\\rho} \\left(\\frac{C_{t}}{G_{t}}\\right)^{\\rho} \\widetilde{MG}_{t+1} \\right ] - \\widetilde{MG}_t + \\frac{C_t}{G_t} = 0\n",
    "$$\n",
    "\n",
    "Finally, we can express our system of equations as\n",
    "\n",
    "$$\n",
    "\\psi_1 = \n",
    "\\begin{bmatrix}\n",
    "0\\\\ \n",
    "\\beta  \\left(\\frac{C_{t + 1}}{G_{t + 1}}\\right)^{-\\rho} \\left(\\frac{G_{t + 1}}{G_{t}}\\right)^{1-\\rho} \\left(\\frac{C_{t}}{G_{t}}\\right)^{\\rho} \\frac{1}{1 + \\psi D_t} \\widetilde{MG}_{t+1} \\\\\n",
    "\\beta \\left(\\frac{C_{t + 1}}{G_{t + 1}}\\right)^{-\\rho} \\left(\\frac{G_{t + 1}}{G_{t}}\\right)^{1-\\rho} \\left(\\frac{C_{t}}{G_{t}}\\right)^{\\rho} \\widetilde{MG}_{t+1}\n",
    "\\end{bmatrix}\n",
    "$$\n",
    "\n",
    "\n",
    "$$\n",
    "\\psi_2 = \n",
    "\\begin{bmatrix}\n",
    "\\frac{C_t}{G_t} + D_t - {\\mathbf a}\\\\\n",
    "1\\\\\n",
    "\\widetilde{MG}_t - \\frac{C_t}{G_t}\n",
    "\\end{bmatrix}\n",
    "$$\n",
    "\n",
    "\n",
    "$$\\phi=\\begin{bmatrix} \n",
    "&\\frac{G_{t+1}} {G_t}  -  \\left( 1 + \\psi D_t \\right)^{\\frac{1}{\\psi}} + exp( \\beta_k Z_t - \\eta_k + \\sigma_k W_{t+1} ) \\\\\n",
    "&Z_{t+1} - \\exp( - \\beta_z) Z_t - \\sigma_z W_{t+1} \n",
    "\\end{bmatrix}$$\n",
    "\n",
    "\n",
    "The model has thre\n",
    "e jump variables (In the expansion suite, $J_t$ is used to represent the array of jump variables):\n",
    "- $\\log C_t - \\log G_t$ : Log consumption over capital\n",
    "- $\\log D_t$ : Log investment over capital\n",
    "- $\\log MG_t$ : Log co-state variable\n",
    "\n",
    "and two state variables (In the expansion suite, $X_t$ is used to represent state variables):\n",
    "- $\\log G_{t} - \\log G_{t-1}$ : Log capital growth process\n",
    "- $Z_{t}$ : Exogenous technology"
   ]
  },
  {
   "cell_type": "markdown",
   "id": "f5e59370",
   "metadata": {},
   "source": [
    "<br>\n",
    "<br>\n",
    "<br>\n",
    "\n",
    "# 2 Inputs <a class=\"anchor\" id=\"s2\"></a>\n",
    "\n",
    "## 2.1 Libraries <a class=\"anchor\" id=\"s2-3\"></a>\n",
    "\n",
    "Begin by installing the following libraries and downloading `RiskUncertaintyValue`, which contains the functions required to solve the model:"
   ]
  },
  {
   "cell_type": "code",
   "execution_count": 2,
   "id": "f0d30383",
   "metadata": {},
   "outputs": [
    {
     "name": "stdout",
     "output_type": "stream",
     "text": [
      "fatal: destination path 'RiskUncertaintyValue' already exists and is not an empty directory.\n"
     ]
    },
    {
     "data": {
      "text/html": [
       "<style>.container { width:97% !important; }</style>"
      ],
      "text/plain": [
       "<IPython.core.display.HTML object>"
      ]
     },
     "metadata": {},
     "output_type": "display_data"
    }
   ],
   "source": [
    "import os\n",
    "import sys\n",
    "workdir = os.getcwd()\n",
    "!git clone https://github.com/lphansen/RiskUncertaintyValue \n",
    "workdir = os.getcwd() + '/RiskUncertaintyValue'             \n",
    "sys.path.insert(0, workdir+'/src')                        \n",
    "import numpy as np\n",
    "import autograd.numpy as anp\n",
    "from scipy import optimize\n",
    "np.set_printoptions(suppress=True)\n",
    "np.set_printoptions(linewidth=200)\n",
    "from IPython.display import display, HTML\n",
    "from BY_example_sol import disp\n",
    "display(HTML(\"<style>.container { width:97% !important; }</style>\"))\n",
    "import warnings\n",
    "warnings.filterwarnings(\"ignore\")\n",
    "\n",
    "from lin_quad import LinQuadVar\n",
    "from lin_quad_util import E, concat, next_period, cal_E_ww, lq_sum, N_tilde_measure, E_N_tp1\n",
    "from uncertain_expansion import uncertain_expansion\n",
    "np.set_printoptions(suppress=True)"
   ]
  },
  {
   "cell_type": "markdown",
   "id": "06a5ca90-4eec-48d3-862a-4a00d766b58e",
   "metadata": {},
   "source": [
    "## 2.2 Equilibrium Condition Function <a class=\"anchor\" id=\"s2-2\"></a>\n",
    "\n",
    "The first input for `uncertain_expansion` requires us to define the equilibrium conditions for the model. Therefore we define a function `eq` which takes in a list of jump and state variables as inputs, and outputs the equilibrium equations in the form of equations 1 and 2. The inputs required:\n",
    "\n",
    "```{list-table}\n",
    ":header-rows: 1\n",
    "\n",
    "* - Variable\n",
    "  - Type\n",
    "  - Description\n",
    "  - Corresponds to\n",
    "* - `Var_t`\n",
    "  - array-like\n",
    "  - Vector of jump and state variables in the current period\n",
    "  - $(J_t, X_t)$\n",
    "* - `Var_tp1`\n",
    "  - array-like\n",
    "  - Vector of jump and state variables in the next period\n",
    "  - $(J_{t+1}, X_{t+1})$\n",
    "* - `W_tp1`\n",
    "  - array-like\n",
    "  - Vector of shock variables in the next period\n",
    "  - $(W_{t+1})$\n",
    "* - `q`\n",
    "  - float\n",
    "  - Perturbation parameter\n",
    "  - $q$\n",
    "* - `mode`\n",
    "  - string\n",
    "  - By default, this function returns the LHS of equation (1) and (2). Set mode to 'psi1', 'psi2', or 'phi' to return the corresponding function in the equilibrium conditions\n",
    "  -  \n",
    "* - `args`\n",
    "  - tuple of float/ndarray\n",
    "  - Preference and model parameters\n",
    "  -  \n",
    "```\n"
   ]
  },
  {
   "cell_type": "markdown",
   "id": "ba75562f",
   "metadata": {
    "id": "ba75562f"
   },
   "source": [
    "\n",
    "While writing out `eq`, ensure that: \n",
    "\n",
    "- The first components of `Var_t` and `Var_tp1` are fixed as `q_t` or `q_tp1`.\n",
    "- State variables follow jump variables.\n",
    "- The number of jump variables (except `q_t` and `q_tp1`) equals the number of forward-looking equilibrium conditions. \n",
    "- The number of state variables equals to the number of state evolution equations.\n",
    "- All values are expressed as type `float`. Otherwise, this may cause type errors.\n",
    "\n",
    "Note that the log change of measure is skipped in the specification of equilibrium conditions. \n",
    "\n",
    "Notice that the first 3 parameters and $q$ in variables should be defined and called in the given order. \n",
    "\n",
    "For the example model, we write:"
   ]
  },
  {
   "cell_type": "code",
   "execution_count": 3,
   "id": "6ae5d2d3",
   "metadata": {
    "id": "6ae5d2d3",
    "tags": [
     "hide-cell"
    ]
   },
   "outputs": [],
   "source": [
    "def eq_onecap_2d(Var_t, Var_tp1, W_tp1, q, mode, *args):\n",
    "    \n",
    "    # Unpack model parameters\n",
    "    γ, β, ρ, a, ϕ_1, ϕ_2, α_k, beta_k, beta_z, sigma_k, sigma_z1, sigma_z2 = args\n",
    "    w1_tp1, w2_tp1 = W_tp1.ravel()\n",
    "\n",
    "    # Unpack model variables\n",
    "    q_t, cmk_t, imk_t, mk_t, Z_t, gk_t = Var_t.ravel()\n",
    "    q_tp1, cmk_tp1, imk_tp1, mk_tp1, Z_tp1, gk_tp1 = Var_tp1.ravel()\n",
    "\n",
    "    # Intermedite varibles that facilitates computation\n",
    "    sdf_ex = anp.log(β) - ρ*(cmk_tp1+gk_tp1-cmk_t)\n",
    "    g_dep = -α_k + beta_k*Z_t + sigma_k*w1_tp1 - 0.5 * (sigma_k**2)\n",
    "\n",
    "    ## Forward-looking conditions\n",
    "    psi1_1 = 0.\n",
    "    psi1_2 = anp.exp(sdf_ex + gk_tp1) * 1/(1 + ϕ_2*anp.exp(imk_t)) * mk_tp1\n",
    "    psi1_3 = anp.exp(sdf_ex + gk_tp1) * mk_tp1\n",
    "\n",
    "    psi2_1 = -a + anp.exp(cmk_t) + anp.exp(imk_t)\n",
    "    psi2_2 = 1.\n",
    "    psi2_3 = mk_t - anp.exp(cmk_t)\n",
    "\n",
    "    # State evoluion processes\n",
    "    phi_1 = Z_tp1 - beta_z*Z_t - sigma_z1*w1_tp1 - sigma_z2*w2_tp1\n",
    "    phi_2 = gk_tp1 - ϕ_1 * anp.log(1.+ϕ_2*anp.exp(imk_t)) - g_dep\n",
    "    \n",
    "    if mode == 'psi1':\n",
    "        return np.array([psi1_1, psi1_2, psi1_3])\n",
    "    \n",
    "    return anp.array([\n",
    "        psi1_1 * anp.exp(q_tp1) - psi2_1,\n",
    "        psi1_2 * anp.exp(q_tp1) - psi2_2,\n",
    "        psi1_3 * anp.exp(q_tp1) - psi2_3,\n",
    "        phi_1, phi_2])"
   ]
  },
  {
   "cell_type": "markdown",
   "id": "d554abc5",
   "metadata": {
    "id": "d554abc5"
   },
   "source": [
    "## 2.3 Steady State Function <a class=\"anchor\" id=\"s2-3\"></a>\n",
    "\n",
    "This function takes model parameters as input and outputs the steady states for each variable following the variable order specified in `Var_t` and `Var_tp1`. To find the steady state, we remove the time subscripts from each variable and solve the system of equations. \n",
    "\n",
    "Note that the first entry of the output array will always be 0, since the steady state of `q_t` is 0."
   ]
  },
  {
   "cell_type": "code",
   "execution_count": 4,
   "id": "e0d871c4",
   "metadata": {
    "id": "e0d871c4",
    "tags": [
     "hide-cell"
    ]
   },
   "outputs": [],
   "source": [
    "def ss_onecap_2d(*args):\n",
    "\n",
    "    γ, β, ρ, a, ϕ_1, ϕ_2, α_k, beta_k, beta_z, sigma_k, sigma_z1, sigma_z2 = args\n",
    "\n",
    "    def f(imk):\n",
    "        g_k = ϕ_1 * np.log(1.+ ϕ_2 * np.exp(imk)) - α_k - 0.5 * (sigma_k**2)\n",
    "        sdf_ex = np.log(β) - ρ*g_k\n",
    "        cmk = np.log(a - np.exp(imk))\n",
    "        mk = 1./(anp.exp(sdf_ex  + g_k)* 1/(1 + ϕ_2*anp.exp(imk)))\n",
    "        return mk - anp.exp(cmk) - anp.exp(sdf_ex + g_k) * mk\n",
    "\n",
    "    imk = optimize.bisect(f,-10,-2.5)\n",
    "    cmk = np.log(a - np.exp(imk))\n",
    "    g_k = ϕ_1 * np.log(1. + ϕ_2 * np.exp(imk)) - α_k - 0.5 * (sigma_k**2)\n",
    "    sdf_ex = np.log(β) - ρ*g_k\n",
    "    mk = 1./(anp.exp(sdf_ex + g_k)* 1/(1 + ϕ_2*anp.exp(imk)))\n",
    "\n",
    "    return np.array([0., cmk, imk, mk, 0., g_k])"
   ]
  },
  {
   "cell_type": "markdown",
   "id": "aadc21b2",
   "metadata": {
    "id": "aadc21b2"
   },
   "source": [
    "## 2.4 Specifying Number of Variables <a class=\"anchor\" id=\"s2-4\"></a>\n",
    "\n",
    "We need to specify the number of jump variables, state and shock variables as an array `(n_J, n_X, n_W)`."
   ]
  },
  {
   "cell_type": "code",
   "execution_count": 5,
   "id": "6f4f50b9",
   "metadata": {
    "id": "6f4f50b9",
    "tags": [
     "hide-cell"
    ]
   },
   "outputs": [],
   "source": [
    "var_shape = (3, 2, 2)"
   ]
  },
  {
   "cell_type": "markdown",
   "id": "715b17d5",
   "metadata": {
    "id": "715b17d5"
   },
   "source": [
    "## 2.5 Model Parameters <a class=\"anchor\" id=\"s2-5\"></a>\n",
    "\n",
    "Next, we need to specify all the model parameters using a Python tuple. \n",
    "\n",
    "- The first three parameters should be γ, β, ρ, respectively. The package is designed for recursive utlity.\n",
    "- Please use 1.00001 for γ and ρ as approximation for 1.0.\n",
    "- We suggest not using matrix when specifying the equilibrium conditions and parameters.\n",
    "\n",
    "<!-- Here, we use the specification described in <insert reference here> -->"
   ]
  },
  {
   "cell_type": "code",
   "execution_count": 6,
   "id": "43a4ac46",
   "metadata": {
    "id": "43a4ac46",
    "tags": [
     "hide-cell"
    ]
   },
   "outputs": [],
   "source": [
    "σ_k = 0.477*2\n",
    "sigmaz1 = 0.011*2\n",
    "sigmaz2 = 0.025*2\n",
    "\n",
    "delta = 0.01\n",
    "alpha = 0.0922\n",
    "\n",
    "a = alpha\n",
    "ϕ_1 = 1/8\n",
    "ϕ_2 = 8\n",
    "beta_k = 0.01\n",
    "beta_z1 = np.exp(-0.056)\n",
    "beta_z2 = np.exp(-0.145)\n",
    "beta_z3 = np.exp(-0.1)\n",
    "\n",
    "sigma_k = σ_k*0.01\n",
    "sigma_z1 = sigmaz1\n",
    "sigma_z2 = sigmaz2\n",
    "\n",
    "α_k = 0.04\n",
    "β = np.exp(-delta)\n",
    "γ = 12.0\n",
    "ρ = 1.5 \n",
    "\n",
    "args = (γ, β, ρ, a, ϕ_1, ϕ_2, α_k, beta_k, beta_z1, sigma_k, sigma_z1, sigma_z2)"
   ]
  },
  {
   "cell_type": "markdown",
   "id": "238e1c2a",
   "metadata": {
    "id": "238e1c2a"
   },
   "source": [
    "## 2.6 Log Consumption Growth  <a class=\"anchor\" id=\"s2-6\"></a>\n",
    "\n",
    "Finally, we need to specify how to compute the log-growth of consumption $\\log{C_{t+1}/C_t}$ using the defined variables `Var_t` and `Var_tp1` in the equilibrium conditions.  \n",
    "\n",
    "In this example, we simply use the decomposition:\n",
    "\n",
    "$$\n",
    "\\log{C_{t+1}/C_t} = \\log{C_{t+1}/K_{t+1}} + \\log{K_{t+1}/K_t} - \\log{C_t/K_t}\n",
    "$$\n",
    "\n",
    "- The reason to specify log consumtion growth is that we need to approximate recursive utility as described in the notes section 3.2.2 and section 3.2.3\n",
    "- In habit formation models, $C_t$ is replaced with $U_t$, in which case we would specify the log growth process for $U_t$ correspondingly.\n"
   ]
  },
  {
   "cell_type": "code",
   "execution_count": 7,
   "id": "2e1398d3",
   "metadata": {
    "tags": [
     "hide-cell"
    ]
   },
   "outputs": [],
   "source": [
    "def gc_onecap_2d(Var_t, Var_tp1, W_tp1, q, *args):\n",
    "    \n",
    "    # Unpack model parameters\n",
    "    γ, β, ρ, a, ϕ_1, ϕ_2, α_k, beta_k, beta_z, sigma_k, sigma_z1, sigma_z2 = args\n",
    "\n",
    "    # Unpack model variables\n",
    "    q_t, cmk_t, imk_t, mk_t, Z_t, gk_t = Var_t.ravel()\n",
    "    q_tp1, cmk_tp1, imk_tp1, mk_tp1, Z_tp1, gk_tp1 = Var_tp1.ravel()\n",
    "\n",
    "    # Compute log consumption growth\n",
    "    gc_tp1 = cmk_tp1 + gk_tp1 - cmk_t\n",
    "    \n",
    "    return gc_tp1"
   ]
  },
  {
   "cell_type": "markdown",
   "id": "020b982b",
   "metadata": {
    "id": "020b982b"
   },
   "source": [
    "## 2.7 Computing ModelSol <a class=\"anchor\" id=\"s2-7\"></a>\n",
    "\n",
    "Now we are able to use steps 2.1 to 2.5 as inputs to the `uncertain_expansion` function. The solution is stored in a class named `ModelSolution`(Please refer to uncertainexpansion.ipynb for details.) under the Linear Quadratic Framework. \n",
    "\n",
    "See [src/uncertain_expansion.py](https://github.com/lphansen/RiskUncertaintyValue/blob/main/src/uncertain_expansion.py) for the source code of the expansion suite.\n"
   ]
  },
  {
   "cell_type": "code",
   "execution_count": 8,
   "id": "217c9448",
   "metadata": {
    "id": "217c9448",
    "outputId": "aab57b59-6dce-4452-dfde-a6ee003cdbd7",
    "tags": [
     "hide-cell"
    ]
   },
   "outputs": [
    {
     "name": "stdout",
     "output_type": "stream",
     "text": [
      "Iteration 1: error = 0.0211794947\n",
      "Iteration 2: error = 2.77555756e-17\n"
     ]
    }
   ],
   "source": [
    "# Solve the One-Capital Adjustment Model\n",
    "eq = eq_onecap_2d\n",
    "ss = ss_onecap_2d\n",
    "gc = gc_onecap_2d\n",
    "var_shape = (3, 2, 2)\n",
    "args = (γ, β, ρ, a, ϕ_1, ϕ_2, α_k, beta_k, beta_z1, sigma_k, sigma_z1, sigma_z2)\n",
    "approach = '1' # See Exploring Recursive Utility Appendix for difference about approach '1' and '2'\n",
    "ModelSol = uncertain_expansion(eq, ss, var_shape, args, gc, approach = '1')"
   ]
  },
  {
   "cell_type": "markdown",
   "id": "961bdc55",
   "metadata": {
    "id": "961bdc55"
   },
   "source": [
    "<br>\n",
    "<br>\n",
    "<br>\n",
    "\n",
    "# 3 Outputs\n",
    "\n",
    "## 3.1 List of Outputs <a class=\"anchor\" id=\"s3-1\"></a>\n",
    "\n",
    "We now examine the contents of `ModelSol`, which contains the attributes listed below. Each approximation is stored in a class `LinQuadVar`, which contains the coefficients for $X_{1,t}, X_{2,t}, X_{1,t}'X_{1,t}, W_{t+1}, W_{t+1}'W_{t+1}, X_{1,t}'W_{t+1}$ and the constant.\n",
    "\n",
    "\n",
    "```{list-table}\n",
    ":header-rows: 1\n",
    "\n",
    "* - Input\n",
    "  - Type\n",
    "  - Description\n",
    "* - `JXn_t`\n",
    "  - *LinQuadVar*\n",
    "  - Approximation of jump and state variables at time $t$. Replace `n` with `0,1,2` to get the zeroth, first and second-order contribution. Omit `n` to get the full approximation. The variables are indexed in the order specified in Section 2. \n",
    "* - `Jn_t`\n",
    "  - *LinQuadVar*\n",
    "  - Same as `JXn_t` but limited to jump variables.\n",
    "* - `Xn_tp1`\n",
    "  - *LinQuadVar*\n",
    "  - Same as `JXn_t` but limited to state variables.\n",
    "* - `JXn_t_tilde`\n",
    "  - *LinQuadVar*\n",
    "  - Same as `JXn_t` but using distorted measure. This variation is also available for `Jn_t` and `Xn_tp1`.\n",
    "* - `util_sol`\n",
    "  - *dict*\n",
    "  - Dictionary containing solutions of the continuation values, including $\\mu^0, \\Upsilon_0^2, \\Upsilon_1^2,$ and $\\Upsilon_2^2$ etc.\n",
    "* - `vmrn_tp1`\n",
    "  - *LinQuadVar*\n",
    "  - Approximation of continuation values $\\widehat{V}^1_{t+1}-\\widehat{R}^1_t$ . Replace `n` with `0,1,2` to get the zeroth, first and second-order contribution. Omit `n` to get the full approximation. \n",
    "* - `gcn_tp1`\n",
    "  - *LinQuadVar*\n",
    "  - Approximation of consumption growth $\\widehat{C}_{t+1}-\\widehat{C}_t$ . Replace `n` with `0,1,2` to get the zeroth, first and second-order contribution. Omit `n` to get the full approximation. \n",
    "* - `ss`\n",
    "  - *dict*\n",
    "  - Steady states for state and jump variables\n",
    "* - `log_N_tilde`\n",
    "  - *LinQuadVar*\n",
    "  - Approximation for the log change of measure\n",
    "```\n",
    "\n",
    "For example, we can obtain the coefficients for the first-order contribution of $\\log{C_t/K_t}$ in the following way, noting that `cmk_t` was listed as the first jump variable when we specified the equilibrum conditions.\n"
   ]
  },
  {
   "cell_type": "code",
   "execution_count": 9,
   "id": "3fa57ffa",
   "metadata": {
    "id": "3fa57ffa",
    "outputId": "1cdb816b-4ed7-4c19-e009-60fdcf049004",
    "tags": []
   },
   "outputs": [
    {
     "data": {
      "text/plain": [
       "{'x': array([[ 0.04344641, -0.        ]]), 'c': array([[-0.02117949]])}"
      ]
     },
     "execution_count": 9,
     "metadata": {},
     "output_type": "execute_result"
    }
   ],
   "source": [
    "## Log consumption over capital approximation results, shown in the LinQuadVar coefficients form\n",
    "ModelSol['JX1_t'][0].coeffs"
   ]
  },
  {
   "cell_type": "markdown",
   "id": "6b4f132c",
   "metadata": {},
   "source": [
    "We can also display the full second-order approximation of $\\log{C_t/K_t}$ using the `disp` function, which renders a `LinQuadVar` object in LATEX form."
   ]
  },
  {
   "cell_type": "code",
   "execution_count": 10,
   "id": "a21c4b7d",
   "metadata": {},
   "outputs": [
    {
     "data": {
      "text/latex": [
       "$\\displaystyle \\log\\frac{C_t}{K_t}=-3.683+\\begin{bmatrix}0.04379&-1.477e-19\\end{bmatrix}X_t^1+\\begin{bmatrix}0.02172&-7.372e-20\\end{bmatrix}X_t^2+X^{1T}_{t}\\begin{bmatrix}-0.0002216&5.549e-21\\\\-4.919e-21&-1.892e-38\\end{bmatrix}X^1_{t}$"
      ],
      "text/plain": [
       "<IPython.core.display.Math object>"
      ]
     },
     "metadata": {},
     "output_type": "display_data"
    }
   ],
   "source": [
    "## Log consumption over capital approximation results, shown in the Latex analytical form\n",
    "disp(ModelSol['JX_t'][0],'\\\\log\\\\frac{C_t}{K_t}') "
   ]
  },
  {
   "cell_type": "markdown",
   "id": "2c2d4266",
   "metadata": {},
   "source": [
    "Another example:"
   ]
  },
  {
   "cell_type": "code",
   "execution_count": 11,
   "id": "d5b18ec2",
   "metadata": {
    "id": "d5b18ec2",
    "outputId": "1b2ebb60-d294-4281-e573-a76dcbc55b4d"
   },
   "outputs": [
    {
     "data": {
      "text/latex": [
       "$\\displaystyle \\log\\frac{K_{t+1}^2}{K_t^2}=\\begin{bmatrix}0.9455&-0\\end{bmatrix}X_t^2$"
      ],
      "text/plain": [
       "<IPython.core.display.Math object>"
      ]
     },
     "metadata": {},
     "output_type": "display_data"
    }
   ],
   "source": [
    "## Log capital growth process second order approximation results\n",
    "disp(ModelSol['X2_tp1'][0],'\\\\log\\\\frac{K_{t+1}^2}{K_t^2}') "
   ]
  },
  {
   "cell_type": "markdown",
   "id": "0190ee8e",
   "metadata": {
    "id": "0190ee8e"
   },
   "source": [
    "\n",
    "## 3.2 Approximate Related Variables <a class=\"anchor\" id=\"s3-2\"></a>\n",
    "\n",
    "We can use the method `ModelSol.approximate` to approximate variables which can be expressed as functions of the state and jump variables. For example, suppose we want to approximate log investment growth $\\log{I_{t+1}/I_t}$. We can express this as:\n",
    "\n",
    "$$\n",
    "\\log{I_{t+1}/I_t} = \\log{I_{t+1}/K_{t+1}} + \\log{K_{t+1}/K_t} - \\log{I_t/K_t}\n",
    "$$\n",
    "\n",
    "We use this expression to write the function `gi_tp1_approx`, which is used as an input in `ModelSol.approximate` below."
   ]
  },
  {
   "cell_type": "code",
   "execution_count": 12,
   "id": "145a47f6",
   "metadata": {
    "id": "145a47f6",
    "outputId": "ae3e6f0d-39c8-47a6-b2b3-934eaa6cffaa",
    "tags": [
     "hide-cell"
    ]
   },
   "outputs": [
    {
     "data": {
      "text/plain": [
       "{'x': array([[ 0.01018563, -0.        ]]),\n",
       " 'c': array([[0.00035532]]),\n",
       " 'w': array([[ 0.00917057, -0.00083961]])}"
      ]
     },
     "execution_count": 12,
     "metadata": {},
     "output_type": "execute_result"
    }
   ],
   "source": [
    "def gi_tp1_approx(Var_t, Var_tp1, W_tp1, q, *args):\n",
    "\n",
    "    # Parameters for the model\n",
    "    γ, β, ρ, a, ϕ_1, ϕ_2, α_k, beta_k, beta_z1, sigma_k, sigma_z1, sigma_z2 = args\n",
    "\n",
    "    # Variables: (q_t, q_tp1 is excluded when using the method in `ModelSolution`)\n",
    "    cmk_t, imk_t, mkmc_t, Z_t, gk_t = Var_t.ravel()\n",
    "    cmk_tp1, imk_tp1, mkmc_tp1, Z_tp1, gk_tp1 = Var_tp1.ravel()\n",
    "    \n",
    "    gi_tp1 = imk_tp1 + gk_tp1 -imk_t\n",
    "    \n",
    "    return gi_tp1\n",
    "\n",
    "n_J, n_X, n_W = var_shape\n",
    "gi_tp1_list = ModelSol.approximate(gi_tp1_approx, args)\n",
    "gi_tp1 = {'gi_tp1':gi_tp1_list[0],\\\n",
    "        'gi0_tp1':gi_tp1_list[1],\\\n",
    "        'gi1_tp1':gi_tp1_list[2],\\\n",
    "        'gi2_tp1':gi_tp1_list[3]}\n",
    "gi_tp1['gi1_tp1'].coeffs"
   ]
  },
  {
   "cell_type": "markdown",
   "id": "bbd28ede",
   "metadata": {
    "id": "bbd28ede"
   },
   "source": [
    "<br>\n",
    "\n",
    "## 3.3 Simulate Variables <a class=\"anchor\" id=\"s3-3\"></a>\n",
    "Given a series of shock processes, we can simulate the path of our state and jump variables using the `ModelSolution.simulate` method. Here, we simulate 400 periods of i.i.d standard multivariate normal shocks."
   ]
  },
  {
   "cell_type": "code",
   "execution_count": 13,
   "id": "58417c59",
   "metadata": {
    "id": "58417c59"
   },
   "outputs": [],
   "source": [
    "Ws = np.random.multivariate_normal(np.zeros(n_W),np.eye(n_W),size = 400)\n",
    "JX_sim = ModelSol.simulate(Ws)"
   ]
  },
  {
   "cell_type": "markdown",
   "id": "738d5ef7",
   "metadata": {
    "id": "738d5ef7"
   },
   "source": [
    "<br>\n",
    "\n",
    "## 3.4 Shock Elasticities and IRF <a class=\"anchor\" id=\"s3-4\"></a>\n",
    "\n",
    "`ModelSolution` contains a method `elasticities` used to compute the shock elasticities of jump and state variables. We do this by defining a `log_SDF_ex` function, which expresses the log stochastic discount factor exclusive of the change of measure ${N}^*_{t+1}$ and variable $Q_{t+1}^*$. Shock elasticities are great tools for nonlinear impulsive response analyses, and in linear models, the shock elasticities correspond to the traditional impulse response function (IRF). \n",
    "\n",
    "`ModelSolution` also has a method `IRF` to compute the traditional IRF of all jump and state variables. Below we calculate the IRF of all variables with respect to the first shock for 400 periods.\n",
    "\n",
    "The figure plots elasticities and IRF of investment rate with regard to shock 1. "
   ]
  },
  {
   "cell_type": "code",
   "execution_count": 14,
   "id": "c2fb03dd",
   "metadata": {
    "id": "c2fb03dd",
    "tags": [
     "hide-cell"
    ]
   },
   "outputs": [],
   "source": [
    "def log_SDF_ex(Var_t, Var_tp1, W_tp1, q, *args):\n",
    "\n",
    "    # Log stochastic discount factor exclusive of the change of measure N and Q.\n",
    "\n",
    "    # Parameters for the model \n",
    "    γ, β, ρ, a, ϕ_1, ϕ_2, α_k, beta_k, beta_z, sigma_k1, sigma_k2, sigma_z = args\n",
    "\n",
    "    # Variables: (q_t, q_tp1 is excluded when using the method in `ModelSolution`) \n",
    "    cmk_t, imk_t, mk_t, Z_t, gk_t = Var_t.ravel()\n",
    "    cmk_tp1, imk_tp1, mk_tp1, Z_tp1, gk_tp1 = Var_tp1.ravel()\n",
    "\n",
    "    sdf_ex = anp.log(β) - ρ*(cmk_tp1+gk_tp1-cmk_t)\n",
    "    \n",
    "    return sdf_ex\n",
    "\n",
    "expo_elas, price_elas = ModelSol.elasticities(log_SDF_ex, T=40, shock=0)\n",
    "states, controls = ModelSol.IRF(T = 40, shock = 0) "
   ]
  },
  {
   "cell_type": "code",
   "execution_count": 15,
   "id": "a60531f0",
   "metadata": {
    "tags": [
     "hide-cell"
    ]
   },
   "outputs": [
    {
     "data": {
      "image/png": "[encoded data removed]",
      "text/plain": [
       "<Figure size 1080x360 with 3 Axes>"
      ]
     },
     "metadata": {},
     "output_type": "display_data"
    }
   ],
   "source": [
    "import matplotlib.pyplot as plt\n",
    "\n",
    "time_periods = list(range(1, 41))  # 40 time periods starting from 1\n",
    "\n",
    "fig, axs = plt.subplots(1, 3, figsize=(15, 5))  # Adjust the figure size as needed\n",
    "\n",
    "# Plotting Exposure Elasticity in the first subfigure\n",
    "axs[0].plot(time_periods, expo_elas[:, 1], label='Exposure Elasticity', marker='o')\n",
    "axs[0].set_xlabel('Time Period')\n",
    "axs[0].set_ylabel('Exposure Elasticity')\n",
    "axs[0].set_title('Exposure Elasticity Over Time')\n",
    "axs[0].grid(True)\n",
    "\n",
    "# Plotting Price Elasticity in the second subfigure\n",
    "axs[1].plot(time_periods, price_elas[:, 1], label='Price Elasticity', marker='x')\n",
    "axs[1].set_xlabel('Time Period')\n",
    "axs[1].set_ylabel('Price Elasticity')\n",
    "axs[1].set_title('Price Elasticity Over Time')\n",
    "axs[1].grid(True)\n",
    "\n",
    "# Plotting IRF in the third subfigure\n",
    "axs[2].plot(time_periods, controls[:, 1], label='IRF', marker='^')\n",
    "axs[2].set_xlabel('Time Period')\n",
    "axs[2].set_ylabel('Impulse Response')\n",
    "axs[2].set_title('IRF Over Time')\n",
    "axs[2].grid(True)\n",
    "\n",
    "plt.tight_layout()\n",
    "plt.show()\n",
    "\n"
   ]
  },
  {
   "cell_type": "markdown",
   "id": "eab36438",
   "metadata": {
    "id": "eab36438"
   },
   "source": [
    "<br>\n",
    "<br>\n",
    "\n",
    "# 4 Using `LinQuadVar` in Computation <a class=\"anchor\" id=\"s2\"></a>\n",
    "\n",
    "In the previous section, we saw how to use `uncertain_expansion` to approximate variables and store their coefficients as `LinQuadVar` objects. In this section, we explore how to manipulate `LinQuadVar` objects for different uses.\n",
    "\n",
    "To aid our examples, we first extract the steady states for the state evolution processes from the previous model solution:\n",
    "\n",
    "See [src/lin_quad.py](https://github.com/lphansen/RiskUncertaintyValue/blob/main/src/lin_quad.py) for source code of `LinQuadVar` definition."
   ]
  },
  {
   "cell_type": "code",
   "execution_count": 43,
   "id": "b5d7ee6b",
   "metadata": {
    "id": "b5d7ee6b",
    "outputId": "882669aa-3be7-4c20-dd54-1273a7c1826d"
   },
   "outputs": [
    {
     "data": {
      "text/plain": [
       "{'c': array([[-2.71057934],\n",
       "        [ 1.5576879 ]])}"
      ]
     },
     "execution_count": 43,
     "metadata": {},
     "output_type": "execute_result"
    }
   ],
   "source": [
    "n_J, n_X, n_W = ModelSol['var_shape']\n",
    "X0_tp1 = LinQuadVar({'c':np.array([[ModelSol['ss'][1]],[ModelSol['ss'][2]]])}, shape = (2, n_X, n_W))\n",
    "X0_tp1.coeffs"
   ]
  },
  {
   "cell_type": "markdown",
   "id": "a5270666",
   "metadata": {
    "id": "a5270666"
   },
   "source": [
    "## 4.1 `LinQuadVar` Operations <a class=\"anchor\" id=\"s4-1\"></a>\n",
    "We can sum multiple LinQuads together in two different ways. Here we demonstrate this with an example by summing the zeroth, first and second order contributions of our approximation for capital growth. "
   ]
  },
  {
   "cell_type": "code",
   "execution_count": 44,
   "id": "205dd148",
   "metadata": {
    "id": "205dd148",
    "outputId": "75bfa88f-3b99-4535-cf0d-121591eae233"
   },
   "outputs": [
    {
     "data": {
      "text/latex": [
       "$\\displaystyle \\log\\frac{K_{t+1}}{K_t}=-2.711+\\begin{bmatrix}0.9455&0\\end{bmatrix}X_t^1+\\begin{bmatrix}0.022&0.05\\end{bmatrix}W_{t+1}+\\begin{bmatrix}0.4728&0\\end{bmatrix}X_t^2$"
      ],
      "text/plain": [
       "<IPython.core.display.Math object>"
      ]
     },
     "metadata": {},
     "output_type": "display_data"
    }
   ],
   "source": [
    "gk_tp1 = X0_tp1[0] + ModelSol['X1_tp1'][0]  + 0.5 * ModelSol['X2_tp1'][0] \n",
    "disp(gk_tp1,'\\\\log\\\\frac{K_{t+1}}{K_t}') "
   ]
  },
  {
   "cell_type": "markdown",
   "id": "f901b7a3",
   "metadata": {},
   "source": [
    "In the next example, we sum together the contributions for both capital growth and technology:"
   ]
  },
  {
   "cell_type": "code",
   "execution_count": 45,
   "id": "b5747b24",
   "metadata": {
    "id": "b5747b24",
    "outputId": "b23404ea-0275-4a57-812e-a675e5f3d37d"
   },
   "outputs": [
    {
     "data": {
      "text/plain": [
       "{'c': array([[-2.71057934],\n",
       "        [ 1.55804585]]),\n",
       " 'w': array([[0.022  , 0.05   ],\n",
       "        [0.00954, 0.     ]]),\n",
       " 'x2': array([[0.47276957, 0.        ],\n",
       "        [0.00463556, 0.        ]]),\n",
       " 'xx': array([[ 0.        ,  0.        ,  0.        ,  0.        ],\n",
       "        [-0.00001424, -0.        ,  0.        ,  0.        ]]),\n",
       " 'x': array([[0.94553914, 0.        ],\n",
       "        [0.00928281, 0.        ]])}"
      ]
     },
     "execution_count": 45,
     "metadata": {},
     "output_type": "execute_result"
    }
   ],
   "source": [
    "lq_sum([X0_tp1, ModelSol['X1_tp1'], 0.5 * ModelSol['X2_tp1']]).coeffs"
   ]
  },
  {
   "cell_type": "markdown",
   "id": "5c1952e3",
   "metadata": {
    "id": "5c1952e3"
   },
   "source": [
    "## 4.2 `LinQuadVar` Split and Concat <a class=\"anchor\" id=\"s4-2\"></a>\n",
    "`split` breaks multiple dimensional LinQuad into one-dimensional LinQuads, while `concat` does the inverse."
   ]
  },
  {
   "cell_type": "code",
   "execution_count": 46,
   "id": "d085149f",
   "metadata": {
    "id": "d085149f",
    "outputId": "a6bdf64b-17a6-48c5-b159-5715a34e0174"
   },
   "outputs": [
    {
     "data": {
      "text/plain": [
       "<lin_quad.LinQuadVar at 0x7fc194380d90>"
      ]
     },
     "execution_count": 46,
     "metadata": {},
     "output_type": "execute_result"
    }
   ],
   "source": [
    "gk_tp1, Z_tp1 = ModelSol['X1_tp1'].split()\n",
    "concat([gk_tp1, Z_tp1])"
   ]
  },
  {
   "cell_type": "markdown",
   "id": "e67b04c1",
   "metadata": {
    "id": "e67b04c1"
   },
   "source": [
    "## 4.3 Evaluate a `LinQuadVar` <a class=\"anchor\" id=\"s4-3\"></a>\n",
    "We can evaluate a LinQuad at specific state $(X_{t},W_{t+1})$ in time. As an example, we evaluate all 5 variables under steady state with a multivariate random normal shock."
   ]
  },
  {
   "cell_type": "code",
   "execution_count": 47,
   "id": "5782676a",
   "metadata": {
    "id": "5782676a",
    "outputId": "0e8e4471-839b-4679-c7a2-fd8d6a8e6879"
   },
   "outputs": [
    {
     "data": {
      "text/plain": [
       "array([[-3.68228516],\n",
       "       [-2.70254332],\n",
       "       [ 1.56144343],\n",
       "       [ 0.01147443],\n",
       "       [ 0.02648373]])"
      ]
     },
     "execution_count": 47,
     "metadata": {},
     "output_type": "execute_result"
    }
   ],
   "source": [
    "x1 = np.zeros([n_X ,1])\n",
    "x2 = np.zeros([n_X ,1])\n",
    "w = np.random.multivariate_normal(np.zeros(n_W),np.eye(n_W),size = 1).T\n",
    "ModelSol['JX_tp1'](*(x1,x2,w))"
   ]
  },
  {
   "cell_type": "markdown",
   "id": "5051f96c",
   "metadata": {
    "id": "5051f96c"
   },
   "source": [
    "## 4.4 Next period expression for `LinQuadVar` <a class=\"anchor\" id=\"s4-4\"></a>\n",
    "`ModelSol` allows us to express a jump variable $J_t$ as a function of $t$ state and shock variables. Suppose we would like to compute its next period expression $J_{t+1}$ with shocks. The function `next_period` expresses $J_{t+1}$ in terms of $t$ state variables and $t+1$ shock variables. For example, we can express the $t+1$ expression for the first-order contribution to consumption over capital as:"
   ]
  },
  {
   "cell_type": "code",
   "execution_count": 48,
   "id": "7e088a47",
   "metadata": {
    "id": "7e088a47",
    "outputId": "116af9b7-9791-4391-b7a4-8d9ee133baff"
   },
   "outputs": [
    {
     "data": {
      "text/latex": [
       "$\\displaystyle \\log\\frac{C_{t+1}^1}{K_{t+1}^1}=-0.02118+\\begin{bmatrix}0.04108&-3.647e-40\\end{bmatrix}X_t^1+\\begin{bmatrix}0.0009558&0.002172\\end{bmatrix}W_{t+1}$"
      ],
      "text/plain": [
       "<IPython.core.display.Math object>"
      ]
     },
     "metadata": {},
     "output_type": "display_data"
    }
   ],
   "source": [
    "cmk1_tp1 = next_period(ModelSol['J1_t'][0], ModelSol['X1_tp1'])\n",
    "disp(cmk1_tp1, '\\\\log\\\\frac{C_{t+1}^1}{K_{t+1}^1}') "
   ]
  },
  {
   "cell_type": "code",
   "execution_count": 49,
   "id": "fa8ab664",
   "metadata": {
    "id": "fa8ab664",
    "outputId": "f4244fa2-2a8a-4a42-8a33-2ab7407c7c8d"
   },
   "outputs": [
    {
     "data": {
      "text/latex": [
       "$\\displaystyle \\log\\frac{C_{t+1}^2}{K_{t+1}^2}=-0.0008222+\\begin{bmatrix}0.0006544&1.448e-41\\end{bmatrix}X_t^1+\\begin{bmatrix}1.523e-05&3.46e-05\\end{bmatrix}W_{t+1}+\\begin{bmatrix}0.04108&-3.647e-40\\end{bmatrix}X_t^2+X^{1T}_{t}\\begin{bmatrix}-0.0003962&3.544e-41\\\\-6.531e-41&-3.263e-59\\end{bmatrix}X^1_{t}+X^{1T}_{t}\\begin{bmatrix}-1.844e-05&-4.191e-05\\\\6.864e-44&1.56e-43\\end{bmatrix}W_{t+1}+W_{t+1}^{T}\\begin{bmatrix}-2.145e-07&-4.875e-07\\\\-4.875e-07&-1.108e-06\\end{bmatrix}W_{t+1}$"
      ],
      "text/plain": [
       "<IPython.core.display.Math object>"
      ]
     },
     "metadata": {},
     "output_type": "display_data"
    }
   ],
   "source": [
    "cmk2_tp1 = next_period(ModelSol['J2_t'][0], ModelSol['X1_tp1'], ModelSol['X2_tp1'])\n",
    "disp(cmk2_tp1, '\\\\log\\\\frac{C_{t+1}^2}{K_{t+1}^2}') "
   ]
  },
  {
   "cell_type": "markdown",
   "id": "daa0c4c1",
   "metadata": {
    "id": "daa0c4c1"
   },
   "source": [
    "## 4.6 Compute the Expectation of time $t+1$ `LinQuadVar` <a class=\"anchor\" id=\"s4-6\"></a>\n",
    "\n",
    "Suppose the distribution of shocks has a constant mean and variance (not state dependent). Then, we can use the `E` function to compute the expectation of a time $t+1$ `LinQuadVar` as follows:\n"
   ]
  },
  {
   "cell_type": "code",
   "execution_count": 50,
   "id": "3140272c",
   "metadata": {
    "id": "3140272c",
    "outputId": "418a75e2-ff56-4bd7-8471-67634f26654c"
   },
   "outputs": [
    {
     "data": {
      "text/latex": [
       "$\\displaystyle \\mathbb{E}[\\log\\frac{C_{t+1}^2}{K_{t+1}^2}|\\mathfrak{F_t}]=-0.0008284+\\begin{bmatrix}0.0006602&1.446e-41\\end{bmatrix}X_t^1+\\begin{bmatrix}0.04108&-3.647e-40\\end{bmatrix}X_t^2+X^{1T}_{t}\\begin{bmatrix}-0.0003962&3.544e-41\\\\-6.531e-41&-3.263e-59\\end{bmatrix}X^1_{t}$"
      ],
      "text/plain": [
       "<IPython.core.display.Math object>"
      ]
     },
     "metadata": {},
     "output_type": "display_data"
    }
   ],
   "source": [
    "E_w = ModelSol['util_sol']['μ_0']\n",
    "cov_w = np.eye(n_W)\n",
    "E_ww = cal_E_ww(E_w, cov_w)\n",
    "E_cmk2_tp1 = E(cmk2_tp1, E_w, E_ww)\n",
    "disp(E_cmk2_tp1, '\\mathbb{E}[\\\\log\\\\frac{C_{t+1}^2}{K_{t+1}^2}|\\mathfrak{F_t}]')"
   ]
  },
  {
   "cell_type": "markdown",
   "id": "18a1686c",
   "metadata": {
    "id": "18a1686c"
   },
   "source": [
    "Suppose the distribution of shock has a state-dependent mean and variance (implied by $\\tilde{N}_{t+1}$ shown in the notes), we can use `E_N_tp1` and `N_tilde_measure` to compute the expectation of time $t+1$ `LinQuadVar`."
   ]
  },
  {
   "cell_type": "code",
   "execution_count": 51,
   "id": "a58482f7",
   "metadata": {
    "id": "a58482f7",
    "outputId": "b8f2fc85-7c37-4d01-a5ed-c6b4d6d940a0"
   },
   "outputs": [
    {
     "data": {
      "text/latex": [
       "$\\displaystyle \\mathbb{\\tilde{E}}[\\log\\frac{C_{t+1}^2}{K_{t+1}^2}|\\mathfrak{F_t}]=-0.0008284+\\begin{bmatrix}0.0006602&1.446e-41\\end{bmatrix}X_t^1+\\begin{bmatrix}0.04108&-3.647e-40\\end{bmatrix}X_t^2+X^{1T}_{t}\\begin{bmatrix}-0.0003963&3.544e-41\\\\-6.531e-41&-3.263e-59\\end{bmatrix}X^1_{t}$"
      ],
      "text/plain": [
       "<IPython.core.display.Math object>"
      ]
     },
     "metadata": {},
     "output_type": "display_data"
    }
   ],
   "source": [
    "N_cm = N_tilde_measure(ModelSol['util_sol']['log_N_tilde'],(1,n_X,n_W))\n",
    "E_cmk2_tp1_tilde = E_N_tp1(cmk2_tp1, N_cm)\n",
    "disp(E_cmk2_tp1_tilde, '\\mathbb{\\\\tilde{E}}[\\\\log\\\\frac{C_{t+1}^2}{K_{t+1}^2}|\\mathfrak{F_t}]')"
   ]
  }
 ],
 "metadata": {
  "colab": {
   "provenance": []
  },
  "interpreter": {
   "hash": "1c67a9c81f4b1f676ee52b818d3e176be5c9dd44f82a35d6054954eb94c37bc5"
  },
  "kernelspec": {
   "display_name": "Python 3",
   "language": "python",
   "name": "python3"
  },
  "language_info": {
   "codemirror_mode": {
    "name": "ipython",
    "version": 3
   },
   "file_extension": ".py",
   "mimetype": "text/x-python",
   "name": "python",
   "nbconvert_exporter": "python",
   "pygments_lexer": "ipython3",
   "version": "3.8.8"
  }
 },
 "nbformat": 4,
 "nbformat_minor": 5
}