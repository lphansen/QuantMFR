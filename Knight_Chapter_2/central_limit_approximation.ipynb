{
 "cells": [
  {
   "cell_type": "markdown",
   "metadata": {},
   "source": [
    "# 2.3 Central Limit Approximation"
   ]
  },
  {
   "cell_type": "markdown",
   "metadata": {},
   "source": [
    "Example 2.2 .3 starts from a moving average of martingale differences that is used as an increment $\\left\\{X_t\\right\\}$ to a $\\left\\{Y_t: t \\geq 0\\right\\}$ process, after which it constructs a process of innovations to the martingale component of the $\\left\\{Y_t: t \\geq 0\\right\\}$ process. That analysis illustrates the workings of an operator $\\mathbb{D}$ that maps an admissible increment process in $\\mathcal{H}$ into the innovation in a martingale component. To construct $\\mathbb{D}$, let $\\mathcal{G}$ be the set of all random variables $G$ with finite second moments that satisfy the conditions that $G$ is $\\mathfrak{A}$ measurable and that $E\\left(G_1 \\mid \\mathfrak{A}\\right)=0$ where $G_1=G \\circ \\mathbb{S}$. Define $\\mathbb{D}: \\mathcal{H} \\rightarrow \\mathcal{G}$ via\n",
    "$$\n",
    "\\mathbb{D}(X)=G .\n",
    "$$\n",
    "\n",
    "Both $\\mathcal{G}$ and $\\mathcal{H}$ are linear spaces of random variables and $\\mathbb{D}$ is a linear transformation. The operator $\\mathbb{D}$ plays a prominent role in a central limit approximation.\n",
    "\n",
    "To form a central limit approximation, construct the following scaled partial sum that nets out trend growth\n",
    "$$\n",
    "\\frac{1}{\\sqrt{t}}\\left(Y_t-\\nu t\\right)=\\frac{1}{\\sqrt{t}} Y_t^m-\\frac{1}{\\sqrt{t}} H_t^{+}+\\frac{1}{\\sqrt{t}}\\left(H_0^{+}+Y_0\\right)\n",
    "$$\n",
    "\n",
    "where\n",
    "$$\n",
    "Y_t^m=\\sum_{j=1}^t G_j\n",
    "$$\n",
    "\n",
    "From Billingsley (1961)'s central limit theorem for martingales\n",
    "$$\n",
    "\\frac{1}{\\sqrt{t}} Y_t^m \\Rightarrow \\mathcal{N}\\left(0, E\\left[\\mathbb{D}(X)^2 \\mid \\mathfrak{I}\\right]\\right)\n",
    "$$\n",
    "where $\\Rightarrow$ denotes weak convergence, meaning convergence in distribution. Clearly, $\\left\\{(1 / \\sqrt{t}) H_t^{+}\\right\\}$and $\\left\\{(1 / \\sqrt{t})\\left(H_0^{+}+Y_0\\right)\\right\\}$ both converge in mean square to zero. Thus,\n",
    "\n",
    "Proposition 2.3.1. For all stationary increment processes $\\left\\{Y_t: t=0,1,2, \\ldots\\right\\}$ represented by $X$ in $\\mathcal{H}$\n",
    "$$\n",
    "\\frac{1}{\\sqrt{t}}\\left(Y_t-\\nu t\\right) \\Rightarrow \\mathcal{N}\\left(0, E\\left[\\mathbb{D}(X)^2 \\mid \\Im\\right]\\right) \\text {. }\n",
    "$$\n",
    "\n",
    "Furthermore,\n",
    "$$\n",
    "E\\left[\\mathbb{D}(X)^2 \\mid \\mathfrak{I}\\right]=\\lim _{t \\rightarrow \\infty} E\\left[\\left.\\left(\\frac{1}{\\sqrt{t}}\\left(Y_t-t \\nu\\right)\\right)^2 \\right\\rvert\\, \\mathfrak{I}\\right]\n",
    "$$"
   ]
  },
  {
   "cell_type": "code",
   "execution_count": null,
   "metadata": {},
   "outputs": [],
   "source": []
  }
 ],
 "metadata": {
  "language_info": {
   "name": "python"
  }
 },
 "nbformat": 4,
 "nbformat_minor": 2
}
