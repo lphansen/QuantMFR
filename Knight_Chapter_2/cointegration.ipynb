{
 "cells": [
  {
   "cell_type": "markdown",
   "metadata": {},
   "source": [
    "# 2.4 Cointegration"
   ]
  },
  {
   "cell_type": "markdown",
   "metadata": {},
   "source": [
    "Linear combinations of stationary increment processes $Y_t^1$ and $Y_t^2$ have stationary increments. For real valued scalars $\\mathbf{r}_1$ and $\\mathbf{r}_2$, form\n",
    "$$\n",
    "Y_t=\\mathbf{r}_1 Y_t^1+\\mathbf{r}_2 Y_t^2\n",
    "$$\n",
    "where\n",
    "$$\n",
    "\\begin{aligned}\n",
    "& Y_{t+1}^1-Y_t^1=X_{t+1}^1 \\\\\n",
    "& Y_{t+1}^2-Y_t^2=X_{t+1}^2 .\n",
    "\\end{aligned}\n",
    "$$\n",
    "\n",
    "The increment in $\\left\\{Y_t: t=0,1, \\ldots\\right\\}$ is\n",
    "$$\n",
    "X_{t+1}=\\mathbf{r}_1 X_{t+1}^1+\\mathbf{r}_2 X_{t+1}^2\n",
    "$$\n",
    "\n",
    "and\n",
    "$$\n",
    "Y_0=\\mathbf{r}_1 Y_0^2+\\mathbf{r}_2 Y_0^2 .\n",
    "$$\n",
    "\n",
    "The Proposition 2.2.2 martingale component of $\\left\\{Y_t: t \\geq 0\\right\\}$ is the corresponding linear combination of the martingale components of $\\left\\{Y_t^1: t=\\right.$ $0,1, \\ldots\\}$ and $\\left\\{Y_t^2: t=0,1, \\ldots\\right\\}$. The Proposition 2.2.2 trend component of $\\left\\{Y_t: t=0,1, \\ldots\\right\\}$ is the corresponding linear combination of the trend components of $\\left\\{Y_t^1: t=0,1, \\ldots\\right\\}$ and $\\left\\{Y_t^2: t=0,1, \\ldots\\right\\}$.\n",
    "\n",
    "Proposition 2.2.2 sheds light on the cointegration concept of Engle and. Granger (1987) that is associated with linear combinations of stationary increment processes whose trend and martingale components are both zero. Engle and Granger call two processes cointegrated if there exists a linear combination of them that is stationary. 3 That situation prevails when there exist real valued scalars $\\mathbf{r}_1$ and $\\mathbf{r}_2$ such that\n",
    "$$\n",
    "\\begin{aligned}\n",
    "\\mathbf{r}_1 \\nu_1+\\mathbf{r}_2 \\nu_2 & =0 \\\\\n",
    "\\mathbf{r}_1 \\mathbb{D}\\left(X^1\\right)+\\mathbf{r}_2 \\mathbb{D}\\left(X^2\\right) & =0\n",
    "\\end{aligned}\n",
    "$$\n",
    "where the $\\nu$ 's correspond to the trend components in Proposition 2.2.2. These two zero restrictions imply that the time trend and the martingale component for the linear combination $Y_t$ are both zero. 9 When $\\mathbf{r}_1=1$ and $\\mathbf{r}_2=-1$, the component stationary increment processes $Y_t^1$ and $Y_t^2$ share a common growth component.\n",
    "\n",
    "This notion of cointegration provides one way to formalize balanced growth paths in stochastic environments through determining linear combination of growing times series for which stochastic growth is absent."
   ]
  },
  {
   "cell_type": "code",
   "execution_count": null,
   "metadata": {},
   "outputs": [],
   "source": []
  }
 ],
 "metadata": {
  "language_info": {
   "name": "python"
  }
 },
 "nbformat": 4,
 "nbformat_minor": 2
}
