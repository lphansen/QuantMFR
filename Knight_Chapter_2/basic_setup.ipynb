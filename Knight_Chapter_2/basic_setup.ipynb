{
 "cells": [
  {
   "cell_type": "markdown",
   "metadata": {},
   "source": [
    "Logarithms of many economic time series that appear to display stochastic growth can be modeled as having stationary increments. Multivariate versions of these models possess stochastic process versions of balanced growth paths. Applied econometricians seek permanent shocks that contribute to such growth. Furthermore, we shall see that it is convenient to pose central limit theory in terms of processes with stationary increments. The mathematical formulation in this chapter opens door to studying these topics."
   ]
  },
  {
   "cell_type": "markdown",
   "metadata": {},
   "source": [
    "# 2.1 Basic Setup"
   ]
  },
  {
   "cell_type": "markdown",
   "metadata": {},
   "source": [
    "We adopt assumptions from section 1.10 that allow an infinite past and again let $\\mathfrak{A}$ be a subsigma algebra of $\\mathfrak{F}$ and\n",
    "$$\n",
    "\\mathfrak{A}_t=\\left\\{\\Lambda_t \\in \\mathfrak{F}: \\Lambda_t=\\left\\{\\omega \\in \\Omega: \\mathbb{S}^t(\\omega) \\in \\Lambda\\right\\} \\text { for some } \\Lambda \\in \\mathfrak{F}\\right\\} .\n",
    "$$\n",
    "\n",
    "Let $X$ be a scalar measurement function. Assume that $Y_0$ is $\\mathfrak{A}_0$ measurable and consider a scalar process $\\left\\{Y_t: t=0,1, \\ldots\\right\\}$ with stationary increments $\\left\\{X_t\\right\\}$ :\n",
    "$$\n",
    "Y_{t+1}-Y_t=X_{t+1}\n",
    "$$\n",
    "for $t=0,1, \\ldots$ Let\n",
    "$$\n",
    "\\begin{aligned}\n",
    "U_{t+1} & =X_{t+1}-E\\left(X_{t+1} \\mid \\mathfrak{A}_t\\right) \\\\\n",
    "\\nu & =E\\left(X_{t+1} \\mid \\mathfrak{I}\\right) \\\\\n",
    "V_t & =E\\left(X_{t+1} \\mid \\mathfrak{A}_t\\right)-\\nu .\n",
    "\\end{aligned}\n",
    "$$\n",
    "\n",
    "Evidently\n",
    "$$\n",
    "X_{t+1}=U_{t+1}+V_t+\\nu\n",
    "$$\n",
    "\n",
    "We can interpret the above equation as providing an interesting decomposition of the $\\left\\{Y_t: t \\geq 0\\right\\}$ process. Thus, component $U_{t+1}$ is unpredictable and represents new information about $Y_{t+1}$ that arrives at date $t+1$. Component $V_t$ is the date $t+1$ contribution to $Y_{t+1}$ that can be predicted from time $t$ information net of trend growth. Component $\\nu$ is the trend rate of growth or decay in $\\left\\{Y_t: t \\geq 0\\right\\}$ conditioned on the invariant events. In the following sections, we present an alternative decomposition that will be useful both in connecting to sources of permanent versus transitory shocks and to central limit theorems."
   ]
  },
  {
   "cell_type": "code",
   "execution_count": null,
   "metadata": {},
   "outputs": [],
   "source": []
  }
 ],
 "metadata": {
  "language_info": {
   "name": "python"
  }
 },
 "nbformat": 4,
 "nbformat_minor": 2
}
