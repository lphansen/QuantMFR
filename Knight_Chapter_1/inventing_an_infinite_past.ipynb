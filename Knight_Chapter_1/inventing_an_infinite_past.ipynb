{
 "cells": [
  {
   "cell_type": "markdown",
   "metadata": {},
   "source": [
    "# 1.10 Inventing an Infinite Past"
   ]
  },
  {
   "cell_type": "markdown",
   "metadata": {},
   "source": [
    "When $\\operatorname{Pr}$ is measure preserving and the process $\\left\\{X_t: t=0,1, \\ldots\\right\\}$ is stationary, it can be useful to invent an infinite past. To accomplish this, we reason in terms of the (measurable) transformation $\\mathbb{S}: \\Omega \\rightarrow \\Omega$ that describes the evolution of a sample point $\\omega$. Until now we have assumed that $\\mathbb{S}$ has the property that for any event $\\Lambda \\in \\mathfrak{F}$,\n",
    "$$\n",
    "\\mathbb{S}^{-1}(\\Lambda)=\\{\\omega \\in \\Omega: \\mathbb{S}(\\omega) \\in \\Lambda\\}\n",
    "$$\n",
    "is an event in $\\mathfrak{F}$. In chapter [2, we want more. To prepare the way for that chapter, in this section we shall also assume that $\\mathbb{S}$ is one-to-one and has the property that for any event $\\Lambda \\in \\mathfrak{F}$,\n",
    "$$\n",
    "\\mathbb{S}(\\Lambda)=\\left\\{\\omega \\in \\Omega: \\mathbb{S}^{-1}(\\omega) \\in \\Lambda\\right\\} \\in \\mathfrak{F} .\n",
    "$$\n",
    "\n",
    "Because\n",
    "$$\n",
    "X_t(\\omega)=X\\left[\\mathbb{S}^t(\\omega)\\right]=X_t=X \\circ \\mathbb{S}^t\n",
    "$$\n",
    "\n",
    "is well defined for negative values of $t$, restrictions 1.6 allow us to construct a \"two-sided\" process that has both an infinite past and an infinite future. Let $\\mathfrak{A}$ be a subsigma algebra of $\\mathfrak{F}$, and let\n",
    "$$\n",
    "\\mathfrak{A}_t=\\left\\{\\Lambda_t \\in \\mathfrak{F}: \\Lambda_t=\\left\\{\\omega \\in \\Omega: \\mathbb{S}^t(\\omega) \\in \\Lambda\\right\\} \\text { for some } \\Lambda \\in \\mathfrak{F}\\right\\} .\n",
    "$$\n",
    "\n",
    "We assume that $\\left\\{\\mathfrak{A}_t:-\\infty<t<+\\infty\\right\\}$ is a nondecreasing filtration. If the original measurement function $X$ is $\\mathfrak{A}$-measurable, then $X_t$ is $\\mathfrak{A}_{t^{-}}$ measurable. Furthermore, $X_{t-j}$ is in $\\mathfrak{A}_t$ for all $j \\geq 0$. The set $\\mathfrak{A}_t$ depicts information available at date $t$, including past information. Invariant events in $\\mathfrak{I}$ are contained in $\\mathfrak{A}_t$ for all $t$.\n",
    "\n",
    "We construct the following moving-average representation of a scalar process $\\left\\{X_t\\right\\}$ in terms of an infinite history of shocks.\n",
    "\n",
    "Example 1.10.1. (Moving average) Suppose that $\\left\\{W_t:-\\infty<t<\\infty\\right\\}$ is a vector stationary process for which ${ }^{\\text {3 }}$\n",
    "$$\n",
    "E\\left(W_{t+1} \\mid \\mathfrak{A}_t\\right)=0\n",
    "$$\n",
    "and that $E\\left(W_t W_t^{\\prime} \\mid \\mathfrak{I}\\right)=I$ for all $-\\infty<t<+\\infty$. Use a sequence of vectors $\\left\\{\\alpha_j\\right\\}_{j=0}^{\\infty}$ to construct\n",
    "$$\n",
    "X_t=\\sum_{j=0}^{\\infty} \\alpha_j \\cdot W_{t-j}\n",
    "$$\n",
    "where\n",
    "$$\n",
    "\\sum_{j=0}^{\\infty}\\left|\\alpha_j\\right|^2<\\infty .\n",
    "$$\n",
    "\n",
    "Restriction (1.9) implies that $X_t$ is well defined as a mean square limit. $X_t$ is constructed from the infinite past $\\left\\{W_{t-j}: 0 \\leqslant j<\\infty\\right\\}$. The process $\\left\\{X_t:-\\infty<t<\\infty\\right\\}$ is stationary and is often called an infinite-order moving average process. The sequence $\\left\\{\\alpha_j: j=0,1, \\ldots\\right\\}$ can depend on the invariant events.\n",
    "\n",
    "Remark 1.10.2. Almost a century ago, both Slutsky (192'7) and Yule (1927) used probability models to analyze economic time series. Their models implied moving-average representations like the one in Example 1.10.1. Their idea was to see economic time series as responding linearly to current and past independent and identically distributed impulses or shocks. In distinct contributions, they showed how such models generate recurrent but aperiodic fluctuations that resemble business cycles and longer-term cycles as well. Yule and Slutsky came from different backgrounds and brought different perspectives. Yule was an eminent statistician who, among other important contributions, managed \"effectively to invent modern time series analysis\" in the words of Stigler (1986). Yule constructed and estimated what we would now call a second-order autoregression and applied it to study sunspots. Yule's estimates implied $\\alpha_j$ coefficients showed damped oscillations at the same periodicity as sunspots. In Russia in the 1920s, Slutsky wrote a seminal paper in Russian motivated by his interest in business cycles. Only later was an English version of his paper published Econometrica. Even before that, it was already on the radar screen of economists including Ragnar Frisch. Indeed, Frisch was keenly aware of both Slutsky (192'7) and Yule (1927) and generously acknowledged both of them in his seminal paper Frisch (1933) on the impulse and propagation problem. Building on insights of Slutsky and Yule, Frisch pioneered impulse response functions. His ambition was to provide explicit economic interpretations for how shocks alter economic time series both now and later. ${ }^{14}$"
   ]
  },
  {
   "cell_type": "markdown",
   "metadata": {},
   "source": []
  }
 ],
 "metadata": {
  "language_info": {
   "name": "python"
  }
 },
 "nbformat": 4,
 "nbformat_minor": 2
}
