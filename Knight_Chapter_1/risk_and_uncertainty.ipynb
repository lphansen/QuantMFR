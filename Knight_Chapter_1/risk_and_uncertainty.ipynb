{
 "cells": [
  {
   "cell_type": "markdown",
   "metadata": {},
   "source": [
    "# 1.9 Risk and Uncertainty"
   ]
  },
  {
   "cell_type": "markdown",
   "metadata": {},
   "source": [
    "An applied researcher typically does not know which statistical model generated the data. This situation leads us to specifications of $\\mathbb{S}$ that are consistent with a family $\\mathcal{P}$ of probability models under which $\\mathbb{S}$ is measure preserving and a stochastic process is stationary. Representation (1.5) describes uncertainty about statistical models with a probability distribution $\\pi$ over the set of statistical models $\\mathcal{Q}$.\n",
    "\n",
    "For a Bayesian, $\\pi$ is a subjective prior probability distribution that pins down a convex combination of \"statistical models.\" 9 A Bayesian expresses trust in that convex combination of statistical models used to construct a complete probability measure over outcomes and uses it to compute expected utility A Bayesian decision theory axiomatized by Savage makes no distinction between how decision makers respond to the probabilities described by the component statistical models and the $\\pi$ probabilities that he uses to mix them. All that matters to a Bayesian decision maker is the complete probability distribution over outcomes, not how it is attained as a $\\pi$-mixture of component statistical models.\n",
    "\n",
    "Some decision and control theorists challenge the complete confidence in a single prior probability assumed in a Bayesian approach. They want to distinguish 'ambiguity', meaning not being able confidently to assign $\\pi$, from 'risk', meaning prospective outcomes with probabilities reliably described by a statistical model. They imagine decision makers who want to evaluate decisions under alternative $\\pi$ 's. 12 We explore these ideas in later chapters.\n",
    "\n",
    "An important implication of the Law of Large Numbers is that for a given initial $\\pi$, using Bayes' rule to update the $\\pi$ probabilities as data arrive will eventually concentrate posterior probability on the statistical model that generates the data. Even when a decision maker entertains a family of $\\pi$ 's, the updated probabilities conditioned on the data may still concentrate on the statistical model that generates the data."
   ]
  },
  {
   "cell_type": "markdown",
   "metadata": {},
   "source": []
  }
 ],
 "metadata": {
  "language_info": {
   "name": "python"
  }
 },
 "nbformat": 4,
 "nbformat_minor": 2
}
