{
 "cells": [
  {
   "cell_type": "markdown",
   "metadata": {},
   "source": [
    "# 1.7 Limiting Empirical Measures"
   ]
  },
  {
   "cell_type": "markdown",
   "metadata": {},
   "source": [
    "Given a triple $(\\Omega, \\mathfrak{F}, \\operatorname{Pr})$ and a measure-preserving transformation $\\mathbb{S}$, we can use Theorem 1.6.1 to construct limiting empirical measures on $\\mathfrak{F}$. To start, we will analyze a setting with a countable partition of $\\Omega$ consisting of invariant events $\\left\\{\\Lambda_j: j=1,2, \\ldots\\right\\}$, each of which has strictly positive probability under $\\operatorname{Pr}$. We consider a more general setting later. Given an event $\\Lambda$ in $\\mathfrak{F}$ and for almost all $\\omega \\in \\Lambda_j$, define the limiting empirical measure $Q r_j$ as\n",
    "$$\n",
    "Q r_j(\\Lambda)(\\omega)=\\lim _{N \\rightarrow \\infty} \\frac{1}{N} \\sum_{t=1}^N \\mathbf{1}_{\\Lambda}\\left[\\mathbb{S}^t(\\omega)\\right]=\\frac{\\operatorname{Pr}\\left(\\Lambda \\cap \\Lambda_j\\right)}{\\operatorname{Pr}\\left(\\Lambda_j\\right)} .\n",
    "$$\n",
    "\n",
    "Thus, when $\\omega \\in \\Lambda_j, Q r_j(\\Lambda)$ is the fraction of time $\\mathbb{S}^t(\\omega) \\in \\Lambda$ in very long samples. If we hold $\\Lambda_j$ fixed and let $\\Lambda$ be an arbitrary event in $\\mathfrak{F}$, we can treat $Q r_j$ as a probability measure on $(\\Omega, \\mathfrak{F})$. By doing this for each $\\Lambda_j, j=1,2, \\ldots$, we can construct a countable set of probability measures $\\left\\{Q r_j\\right\\}_{j=1}^{\\infty}$. These comprise the set of all measures that can be recovered by applying the Law of Large Numbers. If nature draws an $\\omega \\in \\Lambda_j$, then measure $Q r_j$ describes outcomes.\n",
    "\n",
    "So far, we started with a probability measure $\\operatorname{Pr}$ and then constructed the set of possible limiting empirical measures $Q r_j$ 's. We now reverse the direction of the logic by starting with probability measures $Q r_j$ and then finding measures $\\operatorname{Pr}$ that are consistent with them. We do this because $Q r_j$ 's are the only measures that long time series can disclose through the Law of Large Numbers: each $Q r_j$ defined by (1.3) uses the Law of Large Numbers to assign probabilities to events $\\Lambda \\in \\mathfrak{F}$. However, because\n",
    "$$\n",
    "Q r_j(\\Lambda)=\\operatorname{Pr}\\left(\\Lambda \\mid \\Lambda_j\\right)=\\frac{\\operatorname{Pr}\\left(\\Lambda \\cap \\Lambda_j\\right)}{\\operatorname{Pr}\\left(\\Lambda_j\\right)} \\text { for } j=1,2, \\ldots,\n",
    "$$\n",
    "are conditional probabilities, such $Q r_j$ 's are silent about the probabilities $\\operatorname{Pr}\\left(\\Lambda_j\\right)$ of the underlying invariant events $\\Lambda_j$. There are multiple ways to assign probabilities $\\operatorname{Pr}$ that imply identical probabilities conditioned on invariant events.\n",
    "\n",
    "Because $Q r_j$ is all that can ever be learned by \"letting the data speak\", we regard each probability measure $Q r_j$ as a statistical model. 9\n",
    "\n",
    "Definition 1.7.1. A statistical model is a probability measure that a Law of Large Numbers can disclose.\n",
    "\n",
    "Probability measure $Q r_j$ describes a statistical model associated with invariant set $\\Lambda_j$.\n",
    "\n",
    "Remark 1.7.2. For each $j, \\mathbb{S}$ is measure-preserving and ergodic on $\\left(\\Omega, \\mathfrak{F}, Q r_j\\right)$. The second equality of definition (1.3) assures ergodicity by assigning probability one to the event $\\Lambda_j$.\n",
    "\n",
    "Relation (1.3) implies that probability $\\operatorname{Pr}$ connects to probabilities $Q r_j$ by\n",
    "$$\n",
    "\\operatorname{Pr}(\\Lambda)=\\sum_j Q r_j(\\Lambda) \\operatorname{Pr}\\left(\\Lambda_j\\right)\n",
    "$$\n",
    "\n",
    "While decomposition (1.4) follows from definitions of the elementary objects that comprise a stochastic process and is \"just mathematics\", it is interesting because it tells how to construct alternative probability measures $\\operatorname{Pr}$ for which $\\mathbb{S}$ is measure preserving. Because long data series disclose probabilities conditioned on invariant events to be $Q r_j$, to respect evidence from long time series we must hold the $Q r_j$ 's fixed, but we can freely assign probabilities $\\operatorname{Pr}$ to invariant events $\\Lambda_j$. In this way, we can create a family of probability measures for which $\\mathbb{S}$ is measure preserving."
   ]
  },
  {
   "cell_type": "markdown",
   "metadata": {},
   "source": []
  }
 ],
 "metadata": {
  "language_info": {
   "name": "python"
  }
 },
 "nbformat": 4,
 "nbformat_minor": 2
}
