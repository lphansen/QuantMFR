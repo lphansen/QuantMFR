{
 "cells": [
  {
   "cell_type": "markdown",
   "metadata": {},
   "source": [
    "# 1.5 Invariant Events and Conditional Expectations"
   ]
  },
  {
   "cell_type": "markdown",
   "metadata": {},
   "source": [
    "In this section, we present a Law of Large Numbers that asserts that time series averages converge when $\\mathbb{S}$ is measure-preserving relative to $\\mathrm{Pr}$.\n",
    "\n",
    "Invariant events\n",
    "We use the concept of an invariant event to understand how limit points of time series averages relate to a conditional mathematical expectation.\n",
    "Definition 1.5.1. An event $\\Lambda$ is invariant if $\\Lambda=\\mathbb{S}^{-1}(\\Lambda)$.\n",
    "Figure 1.3 illustrates two invariant events in a space $\\Omega$. Notice that if $\\Lambda$ is an invariant event and $\\omega \\in \\Lambda$, then $\\mathbb{S}^t(\\omega) \\in \\Lambda$ for $t=0,1, \\ldots, \\infty$.\n",
    "\n",
    "Let $\\mathfrak{I}$ denote the collection of invariant events. The entire space $\\Omega$ and the null set $\\varnothing$ are both invariant events. Like $\\mathfrak{F}$, the collection of invariant events $\\mathfrak{I}$ is a sigma algebra.\n",
    "\n",
    "Conditional expectation\n",
    "\n",
    "We want to construct a random vector $E(X \\mid \\mathfrak{I})$ called the \"mathematical expectation of $X$ conditional on the collection $\\mathfrak{J}$ of invariant events\". We begin with a situation in which a conditional expectation is a discrete random vector as occurs when invariant events are unions of sets $\\Lambda_j$ belonging to a countable partition of $\\Omega$ (together with the empty set). Later we'll extend the definition beyond this special setting.\n",
    "\n",
    "A countable partition consists of a countable collection of nonempty events $\\Lambda_j$ such that $\\Lambda_j \\cap \\Lambda_k=\\varnothing$ for $j \\neq k$ and such that the union of all $\\Lambda_j$ is $\\Omega$. Assume that each set $\\Lambda_j$ in the partition is itself an invariant event. Define the mathematical expectation conditioned on event $\\Lambda_j$ as\n",
    "$$\n",
    "\\frac{\\int_{\\Lambda_j} X d P r}{\\operatorname{Pr}\\left(\\Lambda_j\\right)}\n",
    "$$\n",
    "when $\\omega \\in \\Lambda_j$. To extend the definition of conditional expectation to all of $\\mathfrak{I}$, take\n",
    "$$\n",
    "E(X \\mid \\mathfrak{I})(\\omega)=\\frac{\\int_{\\Lambda_j} X d P r}{\\operatorname{Pr}\\left(\\Lambda_j\\right)} \\text { if } \\omega \\in \\Lambda_j .\n",
    "$$\n",
    "\n",
    "Thus, the conditional expectation $E(X \\mid \\mathfrak{I})$ is constant for $\\omega \\in \\Lambda_j$ but varies across $\\Lambda_j$ 's. Figure 1.4 illustrates this characterization for a finite partition.\n",
    "\n",
    "Least Squares\n",
    "\n",
    "Now let $X$ be a random vector with finite second moments $E X X^{\\prime}=$ $\\int X(\\omega) X(\\omega)^{\\prime} d \\operatorname{Pr}(\\omega)$. When a random vector $X$ has finite second moments, a conditional expectation is a least squares projection. Let $Z$ be an $n$-dimensional measurement function that is time-invariant and so satisfies\n",
    "$$\n",
    "Z_t(\\omega)=Z\\left[\\mathbb{S}^t(\\omega)\\right]=Z(\\omega) .\n",
    "$$\n",
    "\n",
    "Let $\\mathcal{Z}$ denote the collection of all such time-invariant random vectors. In the special case in which the invariant events can be constructed from a finite partition, $Z$ can vary across sets $\\Lambda_j$ but must remain constant within $\\Lambda_j$. . Consider the least squares problem\n",
    "$$\n",
    "\\min _{Z \\in \\mathcal{Z}} E\\left[|X-Z|^2\\right] .\n",
    "$$\n",
    "\n",
    "Denote the minimizer in problem 1.2 by $\\tilde{X}=E(X \\mid \\mathfrak{I})$. Necessary conditions for the least squares minimizer $\\tilde{X} \\in \\mathcal{Z}$ imply that\n",
    "$$\n",
    "E\\left[(X-\\tilde{X}) Z^{\\prime}\\right]=0\n",
    "$$\n",
    "for $Z$ in $\\mathcal{Z}$ so that each entry of the vector $X-\\widetilde{X}$ of regression errors is orthogonal to every vector $Z$ in $\\mathcal{Z}$.\n",
    "\n",
    "A measure-theoretic approach constructs a conditional expectation by extending the orthogonality property of least squares. Provided that $E|X|<$ $\\infty, E(X \\mid \\mathfrak{I})(\\omega)$ is the essentially unique random vector that, for any invariant event $\\Lambda$, satisfies\n",
    "$$\n",
    "E\\left([X-E(X \\mid \\mathfrak{I})] \\mathbf{1}_{\\Lambda}\\right)=0,\n",
    "$$\n",
    "where $\\mathbf{1}_{\\Lambda}$ is the indicator function that is equal to one on the set $\\Lambda$ and zero otherwise."
   ]
  },
  {
   "cell_type": "markdown",
   "metadata": {},
   "source": []
  }
 ],
 "metadata": {
  "language_info": {
   "name": "python"
  }
 },
 "nbformat": 4,
 "nbformat_minor": 2
}
