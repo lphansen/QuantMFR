{
 "cells": [
  {
   "cell_type": "markdown",
   "metadata": {},
   "source": [
    "# 1.2 Stochastic Processes"
   ]
  },
  {
   "cell_type": "markdown",
   "metadata": {},
   "source": [
    "A sequence of random vectors is called a stochastic process. we are interested in time series so we index the sequence by time.\n",
    "\n",
    "We start with a probability space, namely, a triple $(\\Omega, \\mathfrak{F}, \\operatorname{Pr})$, where $\\mathfrak{F}$ is a collection of events (a sigma algebra) and $\\operatorname{Pr}$ assigns probabilities to events. The following definition makes reference to Borel sets. Borel sets include open sets, closed sets, finite intersections, and countable unions of such sets.\n",
    "\n",
    "Definition 1.2.1. $X$ is an n-dimensional random vector if $X: \\Omega \\rightarrow \\mathbb{R}^n$ has the property that for any Borel set $\\mathfrak{b}$ in $\\mathbb{R}^n\\{X \\in \\mathfrak{b}\\}$ is in $\\mathfrak{F}$.\n",
    "\n",
    "A result from measure theory states that if $\\{X \\in \\mathfrak{o}\\}$ is an event in $\\mathfrak{F}$ whenever $\\mathfrak{o}$ is an open set in $\\mathbb{R}^n$, then $X$ is an $n$-dimensional random vector.\n",
    "\n",
    "This formal structure facilitates using mathematical analysis to formulate problems in probability theory. A random vector induces a probability distribution over the collection of Borel sets in which the probability assigned to set $\\mathfrak{b}$ is given by\n",
    "$$\n",
    "\\operatorname{Pr}\\{X \\in \\mathfrak{b}\\}\n",
    "$$\n",
    "\n",
    "By changing the set $\\mathfrak{b}$, we trace out a probability distribution implied by the random vector $X$ that is called the induced distribution. An induced distribution is what typically interests an applied worker. In practice, an induced distribution is just specified directly without constructing the foundations under study here. However, proceeding at a deeper level as we have by defining a random vector to be a function that satisfies particular measurable properties and imposing the probability measure $\\mathrm{Pr}$ over the domain of that function has mathematical payoffs that we will exploit in various ways, among them being in construction of stochastic processes.\n",
    "\n",
    "Definition 1.2.2. An n-dimensional stochastic process is an infinite sequence of $n$-dimensional random vectors $\\left\\{X_t: t=0,1, \\ldots\\right\\}$.\n",
    "\n",
    "The measure $\\mathrm{Pr}$ assigns probabilities to a rich and interesting collection of events. For example, consider a stacked random vector\n",
    "$$\n",
    "X^{[\\ell]}(\\omega) \\doteq\\left[\\begin{array}{c}\n",
    "X_0(\\omega) \\\\\n",
    "X_1(\\omega) \\\\\n",
    "\\vdots \\\\\n",
    "X_{\\ell}(\\omega)\n",
    "\\end{array}\\right]\n",
    "$$\n",
    "and Borel sets $\\mathfrak{b}$ in $\\mathbb{R}^{n(\\ell+1)}$. The joint distribution of $X^{[\\ell]}$ induced by $\\operatorname{Pr}$ over such Borel sets is\n",
    "$$\n",
    "\\operatorname{Pr}\\left\\{X^{[\\ell]} \\in \\mathfrak{b}\\right\\} .\n",
    "$$\n",
    "\n",
    "Since the choice of $\\ell$ is arbitrary, $\\operatorname{Pr}$ implies a distribution over a sequence of random vectors $\\left\\{X_t(\\omega): t=0,1, \\ldots\\right\\}$ : given a probability distribution, we can construct a probability space and a random vector that induces this distribution. This insight extends to the study of stochastic processes. Thus, the following way to construct a probability space is particularly enlightening.\n",
    "\n",
    "Construction 1.2.3. Let $\\Omega$ be a collection of infinite sequences in $\\mathbb{R}^n$ with an element $\\omega \\in \\Omega$ being a sequence of vectors $\\omega=\\left(\\mathbf{r}_0, \\mathbf{r}_1, \\ldots\\right)$, where $\\mathbf{r}_t \\in \\mathbb{R}^n$. To construct $\\mathfrak{F}$, proceed as follows. Let $\\mathfrak{B}$ be the collection of Borel sets of $\\mathbb{R}^n$. Let $\\widetilde{\\mathfrak{F}}$ denote the collection of all subsets $\\Lambda$ of $\\Omega$ that can be represented in the following way. For a nonnegative integer $\\ell$ and Borel sets $\\mathfrak{b}_0, \\mathfrak{b}_1, \\ldots, \\mathfrak{b}_{\\ell}$, let\n",
    "$$\n",
    "\\Lambda=\\left\\{\\omega=\\left(\\mathbf{r}_0, \\mathbf{r}_1, \\ldots\\right): \\mathbf{r}_j \\in \\mathfrak{b}_j, j=0,1, . ., \\ell\\right\\} .\n",
    "$$\n",
    "\n",
    "Then $\\mathfrak{F}$ is the smallest sigma-algebra that contains $\\tilde{\\mathfrak{F}}$. By assigning probabilities to events in $\\mathfrak{F}$ with $\\mathrm{Pr}$, we construct a probability distribution over sequences of vectors.\n",
    "\n",
    "Next we construct a measure that assigns probabilities to events in $\\mathfrak{F}$. For each integer $\\ell \\geq 0$, let $\\operatorname{Pr}_{\\ell}$ assign probabilities to the Borel sets of $\\mathbb{R}^{n(\\ell+1)}$. A Borel set in $\\mathbb{R}^{n(\\ell+1)}$ can also be viewed as a Borel set in $\\mathbb{R}^{n(\\ell+2)}$ with $\\mathbf{r}_{n(\\ell+1)}$ left unrestricted. Specifically, let $\\mathfrak{b}_{\\ell}$ be a Borel set in $\\mathbb{R}^{n(\\ell+1)}$. Then\n",
    "$$\n",
    "\\mathfrak{b}_{\\ell}^{\\ell+1}=\\left\\{\\left(\\mathbf{r}_0, \\mathbf{r}_1, \\ldots, \\mathbf{r}_{\\ell}, \\mathbf{r}_{\\ell+1}\\right):\\left(\\mathbf{r}_0, \\mathbf{r}_1, \\ldots, \\mathbf{r}_{\\ell}\\right) \\in \\mathfrak{b}_{\\ell}\\right\\} .\n",
    "$$\n",
    "\n",
    "For the probability measures $\\left\\{\\operatorname{Pr}_{\\ell}: \\ell=0,1, \\ldots\\right\\}$ to be consistent, we require that the probability assigned by $\\operatorname{Pr}_{\\ell+1}$ satisfy\n",
    "$$\n",
    "\\operatorname{Pr}_{\\ell}\\left(\\mathfrak{b}_{\\ell}\\right)=\\operatorname{Pr}_{\\ell+1}\\left(\\mathfrak{b}_{\\ell}^{\\ell+1}\\right)\n",
    "$$\n",
    "for any $\\ell \\geq 0$ and any Borel set $\\mathfrak{b}_{\\ell}$ in $\\mathbb{R}^{n(\\ell+1)}$. If consistency in this sense prevails, we can extend this construction to form a probability $\\mathrm{Pr}$ on the space $(\\Omega, \\mathfrak{F})$ that is consistent with the probability assigned by $\\mathrm{Pr}_{\\ell}$ for all nonnegative integers $\\ell$.]\n",
    "Finally, we construct the stochastic process $\\left\\{X_t: t=0,1, \\ldots\\right\\}$ by letting\n",
    "$$\n",
    "X_t(\\omega)=\\mathbf{r}_t\n",
    "$$\n",
    "for $t=0,1,2, \\ldots$ A convenient feature of this construction is that $\\operatorname{Pr}_{\\ell}$ is the probability induced by the random vector $\\left[X_0{ }^{\\prime}, X_1{ }^{\\prime}, \\ldots, X_{\\ell}{ }^{\\prime}\\right]^{\\prime}$.\n",
    "\n",
    "We refer to this construction as canonical. While this is only one among other possible constructions of probability spaces, it illustrates the flexibility in building sequences of random vectors that induce alternative probabilities of interest.\n",
    "\n",
    "The remainder of this chapter is devoted to studying Laws of Large Numbers. What is perhaps the most familiar Law of Large Numbers presumes that the stochastic process $\\left\\{X_t: t=0,1, \\ldots\\right\\}$ is independent and identically distributed (iid). Then\n",
    "$$\n",
    "\\frac{1}{N} \\sum_{t=1}^N \\varphi\\left(X_t\\right) \\rightarrow E \\varphi\\left(X_0\\right)\n",
    "$$\n",
    "for any (Borel measurable) function $\\varphi$ for which the expectation is well defined. Convergence holds in several senses that we state later. Notice that as we vary the function $\\varphi$ we can infer the (induced) probability distribution for $X_0$. In this sense, the outcome of the Law of Large Numbers under an iid sequence determines what we will call a statistical model.\n",
    "\n",
    "For our purposes, an iid version of the Law of Large Numbers is too restrictive. First, we are interested in economic dynamics in which model outcomes are temporally dependent. Second, we want to put ourselves in the situation of a statistician who does not know a priori what the underlying data generating process is and therefore entertains multiple models. We will present a Law of Large Numbers that covers both settings."
   ]
  },
  {
   "cell_type": "markdown",
   "metadata": {},
   "source": []
  }
 ],
 "metadata": {
  "language_info": {
   "name": "python"
  }
 },
 "nbformat": 4,
 "nbformat_minor": 2
}
