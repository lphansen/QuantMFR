{
 "cells": [
  {
   "cell_type": "markdown",
   "metadata": {},
   "source": [
    "# 1.3 Constructing a Stochastic Process"
   ]
  },
  {
   "cell_type": "markdown",
   "metadata": {},
   "source": [
    "We now generalize the canonical construction 1.2.3 of a stochastic process in a way that facilitates stating the Law of Large Numbers that interests us.\n",
    "\n",
    "We use two objects. 2 The first is a (measurable) transformation $\\mathbb{S}$ : $\\Omega \\rightarrow \\Omega$ that describes the evolution of a sample point $\\omega$. See figure 1.1. Transformation $\\mathbb{S}$ has the property that for any event $\\Lambda \\in \\mathfrak{F}$,\n",
    "$$\n",
    "\\mathbb{S}^{-1}(\\Lambda)=\\{\\omega \\in \\Omega: \\mathbb{S}(\\omega) \\in \\Lambda\\}\n",
    "$$\n",
    "is an event in $\\mathfrak{F}$, as depicted in figure 1.2. The second object is an $n$ dimensional vector $X(\\omega)$ that describes how observations depend on sample point $\\omega$. We construct a stochastic process $\\left\\{X_t: t=0,1, \\ldots\\right\\}$ via the formula:\n",
    "$$\n",
    "X_t(\\omega)=X\\left[\\mathbb{S}^t(\\omega)\\right]\n",
    "$$\n",
    "\n",
    "or\n",
    "$$\n",
    "X_t=X \\circ \\mathbb{S}^t,\n",
    "$$\n",
    "where we interpret $\\mathbb{S}^0$ as the identity mapping asserting that $\\omega_0=\\omega$.\n",
    "Because a known function $\\mathbb{S}$ maps a sample point $\\omega \\in \\Omega$ today into a sample point $\\mathbb{S}(\\omega) \\in \\Omega$ tomorrow, the evolution of sample points is deterministic: $\\omega_{t+j}$ for all $j \\geqslant 1$ can be predicted perfectly if we know $\\mathbb{S}$ and $\\omega_t$. But we do not observe $\\omega_t$ at any $t$. Instead, we observe an $(n \\times 1)$ vector $X(\\omega)$ that contains incomplete information about $\\omega$. We assign probabilities $\\operatorname{Pr}$ to collections of sample points $\\omega$ called events, then use the functions $\\mathbb{S}$ and $X$ to induce a joint probability distribution over sequences of $X$ 's. The resulting stochastic process $\\left\\{X_t: 0=1,2, \\ldots\\right\\}$ is a sequence of $n$-dimensional random vectors.\n",
    "This way of constructing a stochastic process might seem restrictive; but actually, it is more general than the canonical construction presented above.\n",
    "\n",
    "Example 1.3.1. Consider again our canonical construction 1.2.3. Recall that the set of sample points $\\Omega$ is the collection of infinite sequences of elements of $\\mathbf{r}_t \\in \\mathbb{R}^n$ so that $\\omega=\\left(\\mathbf{r}_0, \\mathbf{r}_1, \\ldots\\right)$. For this example, $\\mathbb{S}(\\omega)=$ $\\left(\\mathbf{r}_1, \\mathbf{r}_2, \\ldots\\right)$. This choice of $\\mathbb{S}$ is called the shift transformation. Notice that the time $t$ iterate is\n",
    "$$\n",
    "\\mathbb{S}^t(\\omega)=\\left(\\mathbf{r}_t, \\mathbf{r}_{t+1}, \\ldots\\right)\n",
    "$$\n",
    "\n",
    "Let the measurement function be: $X(\\omega)=\\mathbf{r}_0$ so that\n",
    "$$\n",
    "X_t(\\omega)=X\\left[\\mathbb{S}^t(\\omega)\\right]=\\mathbf{r}_t\n",
    "$$\n",
    "as posited in construction 1.2.3.\n"
   ]
  },
  {
   "cell_type": "markdown",
   "metadata": {},
   "source": []
  }
 ],
 "metadata": {
  "language_info": {
   "name": "python"
  }
 },
 "nbformat": 4,
 "nbformat_minor": 2
}
