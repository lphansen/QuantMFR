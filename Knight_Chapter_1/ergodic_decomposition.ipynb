{
 "cells": [
  {
   "cell_type": "markdown",
   "metadata": {},
   "source": [
    "# 1.8 Ergodic Decomposition"
   ]
  },
  {
   "cell_type": "markdown",
   "metadata": {},
   "source": [
    "Up to now, we have represented invariant events with a countable partition. Dynkin (1978) deduced a more general version of decomposition (1.4) without assuming a countable partition. Thus, start with a pair $(\\Omega, \\mathfrak{F})$. Also, assume that there is a metric on $\\Omega$ and that $\\Omega$ is separable. We also assume that $\\mathfrak{F}$ is the collection of Borel sets (the smallest sigma algebra containing the open sets). Given $(\\Omega, \\mathfrak{F})$, take a (measurable) transformation $\\mathbb{S}$ and consider the set $\\mathcal{P}$ of probability measures $\\operatorname{Pr}$ for which $\\mathbb{S}$ is measurepreserving. For some of these probability measures, $\\mathbb{S}$ is ergodic, but for others, it is not. Let $\\mathcal{Q}$ denote the set of probability measures for which $\\mathbb{S}$ is ergodic. Under a nondegenerate convex combination of two probability measures in $\\mathcal{Q}, \\mathbb{S}$ is measure-preserving but not ergodic. Dynkin (1978) constructed limiting empirical measures $Q r$ on $\\mathcal{Q}$ and justified the following representation of the set $\\mathcal{P}$ of probability measures $\\operatorname{Pr}$.\n",
    "\n",
    "Proposition 1.8.1. For each probability measure $\\widetilde{\\operatorname{Pr}}$ in $\\mathcal{P}$ there is a unique probability measure $\\pi$ over $\\mathcal{Q}$ such that\n",
    "$$\n",
    "\\widetilde{\\operatorname{Pr}}(\\Lambda)=\\int_{\\mathcal{Q}} \\operatorname{Qr}(\\Lambda) \\pi(d Q r)\n",
    "$$\n",
    "for all $\\Lambda \\in \\mathfrak{F}$. 9\n",
    "\n",
    "Proposition 1.8.1 generalizes representation (1.4). It asserts a sense in which the set $\\mathcal{P}$ of probabilities for which $\\mathbb{S}$ is measure-preserving is convex. Extremal points of this set are in the smaller set $\\mathcal{Q}$ of probability measures for which the transformation $\\mathbb{S}$ is ergodic. Representation (1.5) shows that by forming \"mixtures\" (i.e., weighted averages or convex combinations) of probability measures under which $\\mathbb{S}$ is ergodic, we can represent all probability specifications for which $\\mathbb{S}$ is measure-preserving.\n",
    "\n",
    "To add another perspective, a collection of invariant events $\\mathfrak{I}$ is associated with a transformation $\\mathbb{S}$. There exists a common conditional expectation operator $\\mathbb{J} \\equiv E(\\cdot \\mid \\mathfrak{I})$ that assigns mathematical expectations to bounded measurable functions (mapping $\\Omega$ into $\\mathbb{R}$ ) conditioned on the set of invariant events $\\mathfrak{I}$. The conditional expectation operator $\\mathbb{J}$ characterizes limit points of time series averages of indicator functions of events of interest as well as other random vectors. Alternative probability measures $\\mathrm{Pr}$ assign different probabilities to the invariant events."
   ]
  },
  {
   "cell_type": "markdown",
   "metadata": {},
   "source": []
  }
 ],
 "metadata": {
  "language_info": {
   "name": "python"
  }
 },
 "nbformat": 4,
 "nbformat_minor": 2
}
