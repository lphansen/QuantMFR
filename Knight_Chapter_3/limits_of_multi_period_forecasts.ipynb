{
 "cells": [
  {
   "cell_type": "markdown",
   "metadata": {},
   "source": [
    "# 3.8 Limits of Multi-Period Forecasts\n",
    "\n",
    "When a Markov process is aperiodic, there are interesting situations in which\n",
    "$$\n",
    "\\lim _{j \\rightarrow \\infty} \\mathbb{T}^j f(x)=\\mathbf{r}\n",
    "$$\n",
    "for some $\\mathbf{r} \\in \\mathbb{R}$, where convergence is either pointwise in $x$ or in the $\\mathcal{L}^2$ norm. Limit (3.10) asserts that long-run forecasts do not depend on the current Markov state. (Meyn and Tweedie (1993) provide a comprehensive treatment of such convergence.) Let $Q$ be a stationary distribution. Then it is necessarily true that\n",
    "$$\n",
    "\\int \\mathbb{T}^j f(x) Q(d x)=\\int f(x) Q(d x)\n",
    "$$\n",
    "for all $j$. Thus,\n",
    "$$\n",
    "\\mathbf{r}=\\int f(x) Q(d x)\n",
    "$$\n",
    "so that the limiting forecast is necessarily the mathematical expectation of $f(x)$ under a stationary distribution. Here we have assumed that the limit point is a number and not a random variable; we have not assumed that the stationary distribution is unique.\n",
    "Notice that if $(3.10)$ is satisfied, then any function $f$ that satisfies\n",
    "$$\n",
    "\\mathbb{T} f=f\n",
    "$$\n",
    "is necessarily constant with probability one. Also, if $\\int f(x) Q(d x)=0$ and convergence is sufficiently fast, then\n",
    "$$\n",
    "\\lim _{N \\rightarrow \\infty} \\sum_{j=0}^N \\mathbb{T}^j f(x)\n",
    "$$\n",
    "is a well-defined function of the Markov state. We shall construct the limit in (3.11) when we extract martingales from additive functionals in chapter 4.\n",
    "A set of sufficient conditions for the convergence outcome\n",
    "$$\n",
    "\\lim _{j \\rightarrow \\infty} \\mathbb{T}^j f\\left(x^*\\right) \\rightarrow \\int f(x) Q(d x)\n",
    "$$\n",
    "\n",
    "for each $x^* \\in \\mathcal{X}$ and each bounded $f$ is: 1 I\n",
    "Condition 3.8.1. A Markov process with stationary distribution $Q$ satisfies:\n",
    "(i) For any $f \\geq 0$ such that $\\int f(x) Q(d x)>0, \\mathbb{M}_p f(x)>0$ for all $x \\in \\mathcal{X}$ with $Q$ measure one and all positive integers $p \\geq 0$, where the operator $\\mathbb{M}_p$ is defined in (3.7).\n",
    "(ii) $\\mathbb{T}$ maps bounded continuous functions into bounded continuous functions, i.e., the Markov process is said to satisfy the Feller property.\n",
    "(iii) The support of $Q$ has a nonempty interior in $\\mathcal{X}$.\n",
    "(iv) $\\mathbb{T} V(x)-V(x) \\leq-1$ outside a compact subset of $\\mathcal{X}$ for some nonnegative function $V$.\n",
    "\n",
    "We encountered condition (i) in our section 3.4 discussion of Markov processes that are ergodic and aperiodic. Condition (iv) is a drift condition for stability that requires that we find a function $V$ that satisfies the requisite inequality. Heuristically, the drift condition says that outside a compact subset of the state space, application of the conditional expectation operator pushes the function inward. The choice of -1 as a comparison point is made only for convenience, since we can always multiply the function $V$ by a number greater than one. Thus, -1 could be replaced by any strictly negative number. In section 3.9 , we will apply condition 3.8.1 to verify ergodicity of a vector autoregression.\n"
   ]
  },
  {
   "cell_type": "code",
   "execution_count": null,
   "metadata": {},
   "outputs": [],
   "source": []
  }
 ],
 "metadata": {
  "language_info": {
   "name": "python"
  }
 },
 "nbformat": 4,
 "nbformat_minor": 2
}
