{
 "cells": [
  {
   "cell_type": "markdown",
   "metadata": {},
   "source": [
    "# 3.10 Inventing a Past Again\n",
    "\n",
    "In section 1.10, we invented an infinite past for a stochastic process. Here we invent an infinite past for a vector autoregression in a way that is equivalent to drawing an initial condition $X_0$ at time $t=0$ from the stationary distribution $\\mathcal{N}\\left(0, \\Sigma_{\\infty}\\right)$, where $\\Sigma_{\\infty}$ solves the discrete Lyapunov equation (3.13), namely, $\\Sigma_{\\infty}=\\mathbb{A} \\Sigma_{\\infty} \\mathbb{A}^{\\prime}+\\mathbb{B B}^{\\prime}$.\n",
    "Thus, consider the vector autoregression\n",
    "$$\n",
    "X_{t+1}=\\mathbb{A} X_t+\\mathbb{B} W_{t+1}\n",
    "$$\n",
    "where $\\mathbb{A}$ is a stable matrix, $\\left\\{W_{t+1}\\right\\}_{t=-\\infty}^{\\infty}$ is now a two-sided infinite sequence of i.i.d. $\\mathcal{N}(0, I)$ random vectors, and $t$ is an integer. We can solve this difference equation backwards to get the moving average representation\n",
    "$$\n",
    "X_t=\\sum_{j=0}^{\\infty} \\mathbb{A}^j \\mathbb{B} W_{t-j}\n",
    "$$\n",
    "\n",
    "Then\n",
    "$$\n",
    "E\\left[X_t\\left(X_t\\right)^{\\prime}\\right]=\\sum_{j=0}^{\\infty} \\mathbb{A}^j \\mathbb{B} \\mathbb{B}^{\\prime}\\left(\\mathbb{A}^j\\right)^{\\prime}=\\Sigma_{\\infty}\n",
    "$$\n",
    "where $\\Sigma_{\\infty}$ is also the unique positive semidefinite matrix that solves $\\Sigma_{\\infty}=$ $\\mathbb{A} \\Sigma_{\\infty} \\mathbb{A}^{\\prime}+\\mathbb{B B}^{\\prime}$."
   ]
  },
  {
   "cell_type": "code",
   "execution_count": null,
   "metadata": {},
   "outputs": [],
   "source": []
  }
 ],
 "metadata": {
  "language_info": {
   "name": "python"
  }
 },
 "nbformat": 4,
 "nbformat_minor": 2
}
