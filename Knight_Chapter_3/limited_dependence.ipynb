{
 "cells": [
  {
   "cell_type": "markdown",
   "metadata": {},
   "source": [
    "# 3.7 Limited Dependence\n",
    "\n",
    "Recall the conditional expectations operator $\\mathbb{T}$ defined in equation (3.1) for a space $\\mathcal{L}^2$ of functions $f$ of a Markov process with transition probability $P$ and stationary distribution $Q$ and for which $f\\left(X_t\\right)$ has a finite second moment under $Q$ :\n",
    "$$\n",
    "\\mathbb{T} f(x)=E\\left[f\\left(X_{t+1}\\right) \\mid X_t=x\\right]=\\int_{\\left\\{x^* \\in \\mathcal{X}\\right\\}} f\\left(x^*\\right) P\\left(d x^* \\mid x\\right) .\n",
    "$$\n",
    "\n",
    "We suppose that under the stationary distribution $Q$, the process is ergodic.\n",
    "Because it is often useful to work with random variables that have been 'centered' by substracting out their means, we define the following subspace of $\\mathcal{L}^2$ :\n",
    "$$\n",
    "\\mathcal{N}=\\left\\{f \\in \\mathcal{L}^2: \\int f(x) Q(d x)=0\\right\\} .\n",
    "$$\n",
    "\n",
    "We use the same norm $\\|f\\|=\\left[\\int f(x)^2 Q(d x)\\right]^{1 / 2}$ on both $\\mathcal{L}^2$ and $\\mathcal{N}$ too.\n",
    "Definition 3.7.1. The conditional expectation operator $\\mathbb{T}$ is said to be a strong contraction on $\\mathcal{N}$ if there exists $0<\\rho<1$ such that\n",
    "$$\n",
    "\\|\\mathbb{T} f\\| \\leq \\rho\\|f\\|\n",
    "$$\n",
    "for all $f \\in \\mathcal{N}$.\n",
    "\n",
    "When $\\mathbb{T}^m$ is a strong contraction for some positive integer $m$ and some $\\rho \\in(0,1)$, the Markov process is said to be $\\rho$-mixing conditioned on the invariant events.\n",
    "\n",
    "Remark 3.7.2. $\\mathbb{T}$ being a strong contraction on $\\mathcal{N}$ limits intertemporal dependence of the Markov process $\\left\\{X_t\\right\\}$.\n",
    "\n",
    "Let $\\mathbb{I}$ be the identity operator. When the conditional expectation operator $\\mathbb{T}$ is a strong contraction, the operator $(\\mathbb{I}-\\mathbb{T})^{-1}$ is well defined, bounded on $\\mathcal{N}$, and equal to the geometric sum: 9\n",
    "$$\n",
    "(\\mathbb{I}-\\mathbb{T})^{-1} f(x)=\\sum_{j=0}^{\\infty} \\mathbb{T}^j f(x)=\\sum_{j=0}^{\\infty} E\\left[f\\left(X_{t+j}\\right) \\mid X_t=x\\right]\n",
    "$$\n",
    "\n",
    "Example 3.7.3. Consider the Markov chain setting of section 3.6 with a transition matrix $\\mathbb{P}$. A stationary density $\\boldsymbol{q}$ is a nonnegative vector that satisfies\n",
    "$$\n",
    "\\boldsymbol{q} \\mathbb{P}=\\boldsymbol{q}\n",
    "$$\n",
    "and $\\boldsymbol{q} \\cdot \\mathbf{1}_n=1$. If the only column eigenvector of $\\mathbb{T}$ associated with a unit eigenvalue is constant over states $i$ for which $\\mathbf{q}_i>0$, then the process is ergodic. If in addition the only eigenvector of $\\mathbb{P}$ that is associated with an eigenvalue that has a unit norm (the unit eigenvalue might be complex) is constant over states $i$ for which $\\mathbf{q}_i>0$, then $\\mathbb{T}^m$ is a strong contraction for some integer $m \\geqslant 1.9$ This implies that the process is ergodic. It also rules out the presence of periodic components that can be forecast perfectly."
   ]
  },
  {
   "cell_type": "code",
   "execution_count": null,
   "metadata": {},
   "outputs": [],
   "source": []
  }
 ],
 "metadata": {
  "language_info": {
   "name": "python"
  }
 },
 "nbformat": 4,
 "nbformat_minor": 2
}
