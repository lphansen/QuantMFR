{
 "cells": [
  {
   "cell_type": "markdown",
   "metadata": {},
   "source": [
    "# $3.3 \\quad \\mathcal{L}^2$ and Eigenfunctions\n",
    "\n",
    "We connected ergodicity to a statistical notion of invariance in chapter 1]. The word invariance brings to mind a generalization of eigenvectors called eigenfunctions. Eigenfunctions of a linear mapping characterize an invariant subspace of functions such that the application of a linear mapping to any element of that space remains in the same subspace. Eigenfunctions associated with a unit eigenvalue are themselves invariant under the mapping. So perhaps it is not surprising that such eigenfunctions of $\\mathbb{T}$ come in handy for studying ergodicity of Markov processes.\n",
    "Given a stationary distribution $Q$, form the space of functions\n",
    "$$\n",
    "\\mathcal{L}^2=\\left\\{f: \\mathcal{X} \\rightarrow \\mathbb{R}: \\int f(x)^2 Q(d x)<\\infty\\right\\} .\n",
    "$$\n",
    "\n",
    "It can be verified that $\\mathbb{T}: \\mathcal{L}^2 \\rightarrow \\mathcal{L}^2$ and that\n",
    "$$\n",
    "\\|f\\|=\\left[\\int f(x)^2 Q(d x)\\right]^{1 / 2}\n",
    "$$\n",
    "is a well defined norm on $\\mathcal{L}^2$.\n",
    "We now study eigenfunctions of the conditional expectation operator $\\mathbb{T}$.\n",
    "\n",
    "Definition 3.3.1. A function $\\tilde{f} \\in \\mathcal{L}^2$ that solves $\\mathbb{T} f=f$ is an eigenfunction of $\\mathbb{T}$ associated with a unit eigenvalue.\n",
    "\n",
    "The following proposition asserts that an eigenfunction $\\tilde{f}\\left(X_t\\right)$ associated with a unit eigenvalue is constant as $X_t$ moves through time.\n",
    "\n",
    "Proposition 3.3.2. Suppose that $\\tilde{f}$ is an eigenfunction of $\\mathbb{T}$ associated with $a$ unit eigenvalue. Then $\\left\\{\\tilde{f}\\left(X_t\\right): t=0,1, \\ldots\\right\\}$ is constant over time with probability one.\n",
    "\n",
    "Proof.\n",
    "$$\n",
    "E\\left[\\tilde{f}\\left(X_{t+1}\\right) \\tilde{f}\\left(X_t\\right)\\right]=\\int(\\mathbb{T} \\tilde{f})(x) \\tilde{f}(x) Q(d x)=\\int \\tilde{f}(x)^2 Q(d x)=E\\left[\\tilde{f}\\left(X_t\\right)^2\\right]\n",
    "$$\n",
    "where the first equality follows from the Law of Iterated Expectations. Then because $Q$ is a stationary distribution,\n",
    "$$\n",
    "\\begin{aligned}\n",
    "E\\left(\\left[\\tilde{f}\\left(X_{t+1}\\right)-\\tilde{f}\\left(X_t\\right)\\right]^2\\right)= & E\\left[\\tilde{f}\\left(X_{t+1}\\right)^2\\right]+E\\left[\\tilde{f}\\left(X_t\\right)^2\\right] \\\\\n",
    "& -2 E\\left[\\tilde{f}\\left(X_{t+1}\\right) \\tilde{f}\\left(X_t\\right)\\right] \\\\\n",
    "= & 0 .\n",
    "\\end{aligned}\n",
    "$$\n"
   ]
  },
  {
   "cell_type": "code",
   "execution_count": null,
   "metadata": {},
   "outputs": [],
   "source": []
  }
 ],
 "metadata": {
  "language_info": {
   "name": "python"
  }
 },
 "nbformat": 4,
 "nbformat_minor": 2
}
