{
 "cells": [
  {
   "cell_type": "markdown",
   "metadata": {},
   "source": [
    "# 3.5 Periodicity\n",
    "\n",
    "Next we study a notion of periodicity of a stationary and ergodic Markov process. 6 To define periodicity of a Markov process, for a given positive integer $p$ we construct a new Markov process by sampling an original process every $p$ time periods. This is sometimes called 'skip-sampling' at sampling interval $p . \\sqrt{\\text { With a view toward applying Proposition } 3.3 .2}$ to $\\mathbb{T}^p$, solve\n",
    "$$\n",
    "\\mathbb{T}^p f=f\n",
    "$$\n",
    "for a function $\\tilde{f}$. We know from Proposition 3.3 .2 that for an $\\tilde{f}$ that solves (3.6), $\\left\\{\\tilde{f}\\left(X_t\\right): t=0, p, 2 p, \\ldots\\right\\}$ is invariant and so is $\\left\\{\\tilde{f}\\left(X_t\\right): t=1, p+\\right.$ $1,2 p+1, \\ldots\\}$. The process $\\tilde{f}\\left(X_t\\right)$ is periodic with period $p$ or $n p$ for any positive integer $n$.\n",
    "\n",
    "Definition 3.5.1. The periodicity of an irreducible Markov process $\\left\\{X_t\\right\\}$ with respect to $\\widetilde{Q}$ is the smallest positive integer p such that there is a solution to equation (3.6) that is not constant with $\\widetilde{Q}$ measure one. When there is no such integer $p$, we say that the process is aperiodic.\n",
    "\n",
    "Result 3.5.2. Consider a counterpart of the resolvent operator $\\mathbb{M}$ constructed by sampling at interval given by positive integer $p$ :\n",
    "$$\n",
    "\\mathbb{M}_p f(x)=(1-\\lambda) \\sum_{j=0}^{\\infty} \\lambda^j \\mathbb{T}^{p j} f .\n",
    "$$\n",
    "\n",
    "Provided that $\\mathbb{M}_p f(x)>0$ with $Q$ measure one and all $p \\geq 0$ for any $f \\geq 0$ such that $\\int f(x) Q(d x)>0$, the Markov process is aperiodic.\n"
   ]
  },
  {
   "cell_type": "code",
   "execution_count": null,
   "metadata": {},
   "outputs": [],
   "source": []
  }
 ],
 "metadata": {
  "language_info": {
   "name": "python"
  }
 },
 "nbformat": 4,
 "nbformat_minor": 2
}
