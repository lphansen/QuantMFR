{
 "cells": [
  {
   "cell_type": "markdown",
   "metadata": {},
   "source": [
    "# 3.2 Stationarity\n",
    "\n",
    "We can construct a stationary Markov process by carefully choosing the distribution of the initial state $X_0$.\n",
    "\n",
    "Definition 3.2.1. A probability measure $Q$ over a state space $\\mathcal{X}$ for a Markov process with transition probability $P$ is a stationary distribution if it satisfies\n",
    "$$\n",
    "\\int_{\\{x \\in \\mathcal{X}\\}} P\\left(d x^* \\mid x\\right) Q(d x)=Q\\left(d x^*\\right) .\n",
    "$$\n",
    "\n",
    "We will sometimes refer to a stationary density $q$. A density is always relative to a measure. With this in mind, let $\\lambda$ be a measure used to integrate over possible Markov states on the state space $\\mathcal{X}$. Then a density $q$ is a nonnegative (Borel measurable) function of the state for which $\\int q(x) \\lambda(d x)=1$.\n",
    "Definition 3.2.2. A stationary density over a state space $\\mathcal{X}$ for a Markov process with transition probability $P$ is a probability density $q$ with respect to a measure $\\lambda$ over the state space $\\mathcal{X}$ that satisfies\n",
    "$$\n",
    "\\int P\\left(d x^* \\mid x\\right) q(x) \\lambda(d x)=q\\left(x^*\\right) \\lambda\\left(d x^*\\right) .\n",
    "$$\n",
    "\n",
    "Various sufficient conditions imply the existence of a stationary distribution. Given a transition distribution $P$, one such condition that is widely used to justify some calculations from numerical simulations is that the Markov process be time reversible, which means that\n",
    "$$\n",
    "P\\left(d x^* \\mid x\\right) Q(d x)=P\\left(d x \\mid x^*\\right) Q\\left(d x^*\\right)\n",
    "$$\n",
    "\n",
    "for some probability distribution $Q$ on $\\mathcal{X}$. Because a transition distribution satisfies $\\int_{\\{x \\in \\mathcal{X}\\}} P\\left(d x \\mid x^*\\right)=1$,\n",
    "$$\n",
    "\\int_{\\{x \\in \\mathcal{X}\\}} P\\left(d x^* \\mid x\\right) Q(d x)=\\int_{\\{x \\in \\mathcal{X}\\}} P\\left(d x \\mid x^*\\right) Q\\left(d x^*\\right)=Q\\left(d x^*\\right),\n",
    "$$\n",
    "so $Q$ is a stationary distribution by Definition 3.2.1. Restriction (3.2) implies that the process is time reversible in the sense that forward and backward transition distributions coincide. Time reversibility is special, so later we will explore other sufficient conditions for the existence of stationary distributions. ${ }^2$\n",
    "\n",
    "Remark 3.2.3. When a Markov process starts at a stationary distribution, we can construct the process $\\left\\{X_t: t=1,2, \\ldots\\right\\}$ with a measure-preserving transformation $\\mathbb{S}$ of the type featured in chapter [, section 1.9 .\n"
   ]
  },
  {
   "cell_type": "markdown",
   "metadata": {},
   "source": []
  }
 ],
 "metadata": {
  "language_info": {
   "name": "python"
  }
 },
 "nbformat": 4,
 "nbformat_minor": 2
}
